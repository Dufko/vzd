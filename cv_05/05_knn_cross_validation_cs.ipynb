{
 "cells": [
  {
   "cell_type": "markdown",
   "metadata": {
    "slideshow": {
     "slide_type": "slide"
    }
   },
   "source": [
    " # kNN a křížová validace"
   ]
  },
  {
   "cell_type": "code",
   "execution_count": 1,
   "metadata": {
    "slideshow": {
     "slide_type": "skip"
    }
   },
   "outputs": [],
   "source": [
    "import math\n",
    "import pandas as pd\n",
    "import numpy as np\n",
    "import seaborn as sns\n",
    "from scipy import stats\n",
    "\n",
    "from sklearn import metrics, datasets\n",
    "from sklearn.model_selection import ParameterGrid, train_test_split, KFold, LeaveOneOut\n",
    "from sklearn.neighbors import KNeighborsRegressor, KNeighborsClassifier\n",
    "from sklearn.preprocessing import MinMaxScaler, LabelEncoder\n",
    "from sklearn.impute import KNNImputer\n",
    "\n",
    "import matplotlib.pyplot as plt\n",
    "import matplotlib\n",
    "%matplotlib inline\n",
    "\n",
    "import warnings\n",
    "warnings.filterwarnings('ignore')"
   ]
  },
  {
   "cell_type": "code",
   "execution_count": 2,
   "metadata": {
    "slideshow": {
     "slide_type": "skip"
    }
   },
   "outputs": [],
   "source": [
    "random_seed = 12247112"
   ]
  },
  {
   "cell_type": "markdown",
   "metadata": {
    "slideshow": {
     "slide_type": "slide"
    }
   },
   "source": [
    "## Metoda kNN (k nejbližších sousedů)"
   ]
  },
  {
   "cell_type": "markdown",
   "metadata": {
    "slideshow": {
     "slide_type": "fragment"
    }
   },
   "source": [
    "<center><img src=\"img/knn.svg\" width=\"40%\"></center>\n",
    "<center>(zdroj: https://commons.wikimedia.org/wiki/File:KnnClassification.svg, autor: Antti Ajanki)</center>"
   ]
  },
  {
   "cell_type": "markdown",
   "metadata": {
    "slideshow": {
     "slide_type": "subslide"
    }
   },
   "source": [
    "### Hyperparametry:\n",
    "- `n_neighbors`: počet nejbližších sousedů (defaultně `5`)\n",
    "- `weights`: způsob výpočtu vah používaných při predikci (defaultně `'uniform'`)\n",
    "- `metric`: použitá vzdálenost (defaultně `'minkowski'`)\n",
    "- `p`: stupeň Minkowského vzdálenosti (defaultně `2`, tedy euklidovská)"
   ]
  },
  {
   "cell_type": "markdown",
   "metadata": {
    "slideshow": {
     "slide_type": "slide"
    }
   },
   "source": [
    "## Použití kNN na Iris datasetu"
   ]
  },
  {
   "cell_type": "markdown",
   "metadata": {
    "slideshow": {
     "slide_type": "-"
    }
   },
   "source": [
    "Načteme si Iris data pomocí modulu `sklearn.datasets`. Ta standardně pro každý záznam obsahují 4 různá měření v centimetrech a dělí se na 3 třídy. Řešíme tedy klasifikační problém. Práci si ale trochu ztížíme a první příznak převedeme na milimetry."
   ]
  },
  {
   "cell_type": "code",
   "execution_count": 23,
   "metadata": {},
   "outputs": [
    {
     "name": "stdout",
     "output_type": "stream",
     "text": [
      "Data sample:\n"
     ]
    },
    {
     "data": {
      "text/plain": [
       "array([[5.1, 3.5, 1.4, 0.2],\n",
       "       [4.9, 3. , 1.4, 0.2],\n",
       "       [4.7, 3.2, 1.3, 0.2],\n",
       "       [4.6, 3.1, 1.5, 0.2],\n",
       "       [5. , 3.6, 1.4, 0.2]])"
      ]
     },
     "metadata": {},
     "output_type": "display_data"
    }
   ],
   "source": [
    "iris = datasets.load_iris()\n",
    "X = iris.data\n",
    "\n",
    "print('Data sample:')\n",
    "display(X[:5,:])"
   ]
  },
  {
   "cell_type": "code",
   "execution_count": 24,
   "metadata": {},
   "outputs": [
    {
     "name": "stdout",
     "output_type": "stream",
     "text": [
      "Shape:  (150, 4) \n",
      "\n",
      "Data sample:\n"
     ]
    },
    {
     "data": {
      "text/plain": [
       "array([[51. ,  3.5,  1.4,  0.2],\n",
       "       [49. ,  3. ,  1.4,  0.2],\n",
       "       [47. ,  3.2,  1.3,  0.2],\n",
       "       [46. ,  3.1,  1.5,  0.2],\n",
       "       [50. ,  3.6,  1.4,  0.2]])"
      ]
     },
     "metadata": {},
     "output_type": "display_data"
    }
   ],
   "source": [
    "# Převedeme první příznak z centimetrů na milimetry\n",
    "X[:, 0] *= 10\n",
    "y = iris.target\n",
    "\n",
    "print('Shape: ', X.shape, '\\n')\n",
    "print('Data sample:')\n",
    "display(X[:5,:])"
   ]
  },
  {
   "cell_type": "markdown",
   "metadata": {
    "slideshow": {
     "slide_type": "subslide"
    }
   },
   "source": [
    "Pomocí již dobře známé funkce `train_test_split` rozdělíme data na trénovací a testovací v poměru 6:4:"
   ]
  },
  {
   "cell_type": "code",
   "execution_count": 10,
   "metadata": {
    "slideshow": {
     "slide_type": "-"
    }
   },
   "outputs": [],
   "source": [
    "Xtrain, Xtest, ytrain, ytest = train_test_split(X, y, test_size=0.4, random_state=random_seed)"
   ]
  },
  {
   "cell_type": "markdown",
   "metadata": {
    "slideshow": {
     "slide_type": "fragment"
    }
   },
   "source": [
    "Na trénovacích datech si spočítáme minimum, maximum a průměr. Dle očekávání jsou hodnoty prvního příznaku značně vyšší než ostatní."
   ]
  },
  {
   "cell_type": "code",
   "execution_count": 11,
   "metadata": {
    "slideshow": {
     "slide_type": "-"
    }
   },
   "outputs": [
    {
     "name": "stdout",
     "output_type": "stream",
     "text": [
      "Min:  [45.   2.   1.2  0.1]\n",
      "Max:  [79.   4.2  6.9  2.4]\n",
      "Mean: [59.67777778  3.03222222  3.98777778  1.28333333]\n"
     ]
    }
   ],
   "source": [
    "d = stats.describe(Xtrain)\n",
    "print('Min: ', d.minmax[0])\n",
    "print('Max: ', d.minmax[1])\n",
    "print('Mean:', d.mean)"
   ]
  },
  {
   "cell_type": "markdown",
   "metadata": {
    "slideshow": {
     "slide_type": "subslide"
    }
   },
   "source": [
    "Data si můžeme vizualizovat pomocí scatter plotu. Vidíme, že dvě ze tříd se mírně překrývají. To by ale pro kNN klasifikátor (např. oproti lineární separaci) neměl být problém."
   ]
  },
  {
   "cell_type": "code",
   "execution_count": 25,
   "metadata": {},
   "outputs": [
    {
     "data": {
      "image/png": "[encoded data removed]",
      "text/plain": [
       "<Figure size 432x288 with 1 Axes>"
      ]
     },
     "metadata": {
      "needs_background": "light"
     },
     "output_type": "display_data"
    }
   ],
   "source": [
    "plt.scatter(Xtrain[:, 0], Xtrain[:, 2], c=ytrain, alpha=0.5)\n",
    "plt.show()"
   ]
  },
  {
   "cell_type": "markdown",
   "metadata": {
    "slideshow": {
     "slide_type": "subslide"
    }
   },
   "source": [
    "Jak ale uvidíme za chvíli, kNN je velice citlivé na různě velké rozsahy hodnot jednotlivých příznaků."
   ]
  },
  {
   "cell_type": "markdown",
   "metadata": {
    "slideshow": {
     "slide_type": "fragment"
    }
   },
   "source": [
    "Z trénovacích dat si ještě ukrojíme validační:"
   ]
  },
  {
   "cell_type": "code",
   "execution_count": 26,
   "metadata": {
    "slideshow": {
     "slide_type": "-"
    }
   },
   "outputs": [],
   "source": [
    "Xtrain, Xval, ytrain, yval = train_test_split(Xtrain, ytrain, test_size=0.4, random_state=random_seed)"
   ]
  },
  {
   "cell_type": "markdown",
   "metadata": {
    "slideshow": {
     "slide_type": "fragment"
    }
   },
   "source": [
    "Natrénujeme kNN klasifikátor (s defaultními hyperparametry) a změříme přesnost klasifikace na validačních datech:"
   ]
  },
  {
   "cell_type": "code",
   "execution_count": 34,
   "metadata": {
    "slideshow": {
     "slide_type": "-"
    }
   },
   "outputs": [
    {
     "name": "stdout",
     "output_type": "stream",
     "text": [
      "Validation accuracy of non-normalized model 0.7500\n"
     ]
    }
   ],
   "source": [
    "model = KNeighborsClassifier()\n",
    "model.fit(Xtrain, ytrain)\n",
    "print('Validation accuracy of non-normalized model %.4lf' % model.score(Xval, yval))"
   ]
  },
  {
   "cell_type": "markdown",
   "metadata": {
    "slideshow": {
     "slide_type": "fragment"
    }
   },
   "source": [
    "Přesnost bohužel není příliš vysoká."
   ]
  },
  {
   "cell_type": "markdown",
   "metadata": {
    "slideshow": {
     "slide_type": "subslide"
    }
   },
   "source": [
    "Zkusíme proto jiný přístup. Data nejprve normalizujeme pomocí min-max normalizace. To v Pythonu uděláme pomocí třídy `MinMaxScaler` z modulu `sklearn.preprocessing`:"
   ]
  },
  {
   "cell_type": "code",
   "execution_count": 35,
   "metadata": {
    "slideshow": {
     "slide_type": "fragment"
    }
   },
   "outputs": [
    {
     "name": "stdout",
     "output_type": "stream",
     "text": [
      "Validation accuracy of normalized model: 0.9722\n"
     ]
    }
   ],
   "source": [
    "# Min-max scaler nafitujeme na trénovacích datech\n",
    "scaler = MinMaxScaler()\n",
    "Xtrain_scaled = scaler.fit_transform(Xtrain)\n",
    "\n",
    "# Následně stejnou transformaci aplikujeme i na validační data\n",
    "Xval_scaled = scaler.transform(Xval)\n",
    "\n",
    "# Natrénujeme model na transformovaných datech\n",
    "model = KNeighborsClassifier()\n",
    "model.fit(Xtrain_scaled, ytrain)\n",
    "\n",
    "print('Validation accuracy of normalized model: %.4lf' % model.score(Xval_scaled, yval))"
   ]
  },
  {
   "cell_type": "markdown",
   "metadata": {
    "slideshow": {
     "slide_type": "fragment"
    }
   },
   "source": [
    "Taková přesnost už je velice pěkná."
   ]
  },
  {
   "cell_type": "markdown",
   "metadata": {
    "slideshow": {
     "slide_type": "subslide"
    }
   },
   "source": [
    "Na závěr můžeme změřit i přesnost klasifikace na testovacích datech:"
   ]
  },
  {
   "cell_type": "code",
   "execution_count": 36,
   "metadata": {},
   "outputs": [
    {
     "name": "stdout",
     "output_type": "stream",
     "text": [
      "Test accuracy of normalized model: 0.9667\n"
     ]
    }
   ],
   "source": [
    "Xtest_scaled = scaler.transform(Xtest)\n",
    "print('Test accuracy of normalized model: %.4lf' % model.score(Xtest_scaled, ytest))"
   ]
  },
  {
   "cell_type": "markdown",
   "metadata": {
    "slideshow": {
     "slide_type": "subslide"
    }
   },
   "source": [
    "### Pár bodů k zamyšlení"
   ]
  },
  {
   "cell_type": "markdown",
   "metadata": {},
   "source": [
    "- Člověka by mohlo napadnout provést normalizaci na celém trénovacím datasetu a až potom provádět validaci. V tu chvíli by ale validační chyba nebyla objektivní. (Je to podobné, jako bychom při trénování používali i testovací data.)\n",
    "- Min-max normalizace není všespásná, jedná se o obyčejnou lineární transformaci. Obecně jí dělají problém odlehlé hodnoty (outlieři). V tu chvíli je vhodné buď outliery nejprve odstranit, nebo použít robustnější metodu normalizace."
   ]
  },
  {
   "cell_type": "markdown",
   "metadata": {
    "slideshow": {
     "slide_type": "slide"
    }
   },
   "source": [
    "## Práce s datasetem house prices"
   ]
  },
  {
   "cell_type": "markdown",
   "metadata": {
    "slideshow": {
     "slide_type": "subslide"
    }
   },
   "source": [
    "Načteme si dataset house prices."
   ]
  },
  {
   "cell_type": "code",
   "execution_count": 37,
   "metadata": {
    "slideshow": {
     "slide_type": "fragment"
    }
   },
   "outputs": [
    {
     "name": "stdout",
     "output_type": "stream",
     "text": [
      "<class 'pandas.core.frame.DataFrame'>\n",
      "Int64Index: 1460 entries, 1 to 1460\n",
      "Data columns (total 80 columns):\n",
      " #   Column         Non-Null Count  Dtype  \n",
      "---  ------         --------------  -----  \n",
      " 0   MSSubClass     1460 non-null   int64  \n",
      " 1   MSZoning       1460 non-null   object \n",
      " 2   LotFrontage    1201 non-null   float64\n",
      " 3   LotArea        1460 non-null   int64  \n",
      " 4   Street         1460 non-null   object \n",
      " 5   Alley          91 non-null     object \n",
      " 6   LotShape       1460 non-null   object \n",
      " 7   LandContour    1460 non-null   object \n",
      " 8   Utilities      1460 non-null   object \n",
      " 9   LotConfig      1460 non-null   object \n",
      " 10  LandSlope      1460 non-null   object \n",
      " 11  Neighborhood   1460 non-null   object \n",
      " 12  Condition1     1460 non-null   object \n",
      " 13  Condition2     1460 non-null   object \n",
      " 14  BldgType       1460 non-null   object \n",
      " 15  HouseStyle     1460 non-null   object \n",
      " 16  OverallQual    1460 non-null   int64  \n",
      " 17  OverallCond    1460 non-null   int64  \n",
      " 18  YearBuilt      1460 non-null   int64  \n",
      " 19  YearRemodAdd   1460 non-null   int64  \n",
      " 20  RoofStyle      1460 non-null   object \n",
      " 21  RoofMatl       1460 non-null   object \n",
      " 22  Exterior1st    1460 non-null   object \n",
      " 23  Exterior2nd    1460 non-null   object \n",
      " 24  MasVnrType     1452 non-null   object \n",
      " 25  MasVnrArea     1452 non-null   float64\n",
      " 26  ExterQual      1460 non-null   object \n",
      " 27  ExterCond      1460 non-null   object \n",
      " 28  Foundation     1460 non-null   object \n",
      " 29  BsmtQual       1423 non-null   object \n",
      " 30  BsmtCond       1423 non-null   object \n",
      " 31  BsmtExposure   1422 non-null   object \n",
      " 32  BsmtFinType1   1423 non-null   object \n",
      " 33  BsmtFinSF1     1460 non-null   int64  \n",
      " 34  BsmtFinType2   1422 non-null   object \n",
      " 35  BsmtFinSF2     1460 non-null   int64  \n",
      " 36  BsmtUnfSF      1460 non-null   int64  \n",
      " 37  TotalBsmtSF    1460 non-null   int64  \n",
      " 38  Heating        1460 non-null   object \n",
      " 39  HeatingQC      1460 non-null   object \n",
      " 40  CentralAir     1460 non-null   object \n",
      " 41  Electrical     1459 non-null   object \n",
      " 42  1stFlrSF       1460 non-null   int64  \n",
      " 43  2ndFlrSF       1460 non-null   int64  \n",
      " 44  LowQualFinSF   1460 non-null   int64  \n",
      " 45  GrLivArea      1460 non-null   int64  \n",
      " 46  BsmtFullBath   1460 non-null   int64  \n",
      " 47  BsmtHalfBath   1460 non-null   int64  \n",
      " 48  FullBath       1460 non-null   int64  \n",
      " 49  HalfBath       1460 non-null   int64  \n",
      " 50  BedroomAbvGr   1460 non-null   int64  \n",
      " 51  KitchenAbvGr   1460 non-null   int64  \n",
      " 52  KitchenQual    1460 non-null   object \n",
      " 53  TotRmsAbvGrd   1460 non-null   int64  \n",
      " 54  Functional     1460 non-null   object \n",
      " 55  Fireplaces     1460 non-null   int64  \n",
      " 56  FireplaceQu    770 non-null    object \n",
      " 57  GarageType     1379 non-null   object \n",
      " 58  GarageYrBlt    1379 non-null   float64\n",
      " 59  GarageFinish   1379 non-null   object \n",
      " 60  GarageCars     1460 non-null   int64  \n",
      " 61  GarageArea     1460 non-null   int64  \n",
      " 62  GarageQual     1379 non-null   object \n",
      " 63  GarageCond     1379 non-null   object \n",
      " 64  PavedDrive     1460 non-null   object \n",
      " 65  WoodDeckSF     1460 non-null   int64  \n",
      " 66  OpenPorchSF    1460 non-null   int64  \n",
      " 67  EnclosedPorch  1460 non-null   int64  \n",
      " 68  3SsnPorch      1460 non-null   int64  \n",
      " 69  ScreenPorch    1460 non-null   int64  \n",
      " 70  PoolArea       1460 non-null   int64  \n",
      " 71  PoolQC         7 non-null      object \n",
      " 72  Fence          281 non-null    object \n",
      " 73  MiscFeature    54 non-null     object \n",
      " 74  MiscVal        1460 non-null   int64  \n",
      " 75  MoSold         1460 non-null   int64  \n",
      " 76  YrSold         1460 non-null   int64  \n",
      " 77  SaleType       1460 non-null   object \n",
      " 78  SaleCondition  1460 non-null   object \n",
      " 79  SalePrice      1460 non-null   int64  \n",
      "dtypes: float64(3), int64(34), object(43)\n",
      "memory usage: 923.9+ KB\n"
     ]
    }
   ],
   "source": [
    "data = pd.read_csv('house-prices-train.csv')\n",
    "data.set_index('Id', drop=True, verify_integrity=True, inplace=True)\n",
    "data.info()"
   ]
  },
  {
   "cell_type": "markdown",
   "metadata": {
    "slideshow": {
     "slide_type": "subslide"
    }
   },
   "source": [
    "Predikovat budeme hodnotu sloupce `SalePrice`. Vykreslíme si proto rozdělení jeho hodnot. Letmým pohledem nám toto rozdělení může připomínat log-normální, nicméně dopodrobna se tím zabývat nebudeme."
   ]
  },
  {
   "cell_type": "code",
   "execution_count": 38,
   "metadata": {
    "slideshow": {
     "slide_type": "fragment"
    }
   },
   "outputs": [
    {
     "data": {
      "image/png": "[encoded data removed]",
      "text/plain": [
       "<Figure size 432x288 with 1 Axes>"
      ]
     },
     "metadata": {
      "needs_background": "light"
     },
     "output_type": "display_data"
    }
   ],
   "source": [
    "data.SalePrice.hist(bins=20)\n",
    "plt.show()"
   ]
  },
  {
   "cell_type": "markdown",
   "metadata": {
    "slideshow": {
     "slide_type": "subslide"
    }
   },
   "source": [
    "Mírně si ulehčíme život a provedeme logaritmickou transformaci. To je samozřejmě validní operace, která v některých případech může zvýšit přesnost výsledného odhadu. Zároveň ale platí, že to nefunguje univerzálně u libovolného typu dat. V tomto konkrétním případě se prostě spokojíme s informací v podobě *deus ex machina*, že nám to pomůže."
   ]
  },
  {
   "cell_type": "code",
   "execution_count": 40,
   "metadata": {
    "slideshow": {
     "slide_type": "fragment"
    }
   },
   "outputs": [
    {
     "data": {
      "image/png": "[encoded data removed]",
      "text/plain": [
       "<Figure size 432x288 with 1 Axes>"
      ]
     },
     "metadata": {
      "needs_background": "light"
     },
     "output_type": "display_data"
    }
   ],
   "source": [
    "data.SalePrice = np.log1p(data.SalePrice)\n",
    "data.SalePrice.hist(bins=20)\n",
    "plt.show()"
   ]
  },
  {
   "cell_type": "markdown",
   "metadata": {
    "slideshow": {
     "slide_type": "fragment"
    }
   },
   "source": [
    "Na tuto skutečnost nesmíme zapomenout při závěrečné práci s testovacím datasetem. Na predikované hodnoty tedy musíme aplikovat inverzní funkci, v našem případě `np.expm1`."
   ]
  },
  {
   "cell_type": "markdown",
   "metadata": {
    "slideshow": {
     "slide_type": "subslide"
    }
   },
   "source": [
    "### Čištění dat"
   ]
  },
  {
   "cell_type": "markdown",
   "metadata": {
    "slideshow": {
     "slide_type": "fragment"
    }
   },
   "source": [
    "Metodu kNN nelze použít, pokud máme v datasetu nominální příznaky. To lze vyřešit několika způsoby:\n",
    "- Z datasetu nominální hodnoty úplně odstraníme (přičemž můžeme ponechat ordinální, dává-li smysl mezi nimi měřit vzdálenost).\n",
    "- Použijeme one-hot enkódování a nominální příznaky nahradíme dummy příznaky.\n",
    "- Použijeme nějakou [sofistikovanější metriku](https://www.researchgate.net/publication/220907006_Similarity_Measures_for_Categorical_Data_A_Comparative_Evaluation), která umí porovnávat nominální hodnoty."
   ]
  },
  {
   "cell_type": "markdown",
   "metadata": {
    "slideshow": {
     "slide_type": "subslide"
    }
   },
   "source": [
    "Nejprve použijeme kód z předchozích cvičení pro nahrazení kategorických příznaků dummy příznaky."
   ]
  },
  {
   "cell_type": "code",
   "execution_count": 41,
   "metadata": {},
   "outputs": [],
   "source": [
    "def encode_categories(df, mappers, dummies=False):\n",
    "    le = LabelEncoder()\n",
    "    for col in df.select_dtypes('object').columns:\n",
    "        if col not in mappers and df[col].nunique() < 30:\n",
    "            df[col] = df[col].fillna('NaN')\n",
    "            df[col] = le.fit_transform(df[col])\n",
    "            if dummies:\n",
    "                prefix = 'd_' + col\n",
    "                df = pd.concat([df.drop(columns=[col]), pd.get_dummies(df[col], prefix=prefix)], axis=1)\n",
    "        elif col in mappers:\n",
    "            df[col] = df[col].replace(mappers[col])\n",
    "    return df"
   ]
  },
  {
   "cell_type": "code",
   "execution_count": 42,
   "metadata": {},
   "outputs": [
    {
     "name": "stdout",
     "output_type": "stream",
     "text": [
      "Shape: (1460, 302)\n"
     ]
    }
   ],
   "source": [
    "ordinal_cols_mappers = {\n",
    "    'KitchenQual': { 'Po': 0, 'Fa': 1, 'TA': 2, 'Gd': 3, 'Ex': 4 }\n",
    "}\n",
    "data = encode_categories(data, ordinal_cols_mappers, True)\n",
    "print('Shape:', data.shape)"
   ]
  },
  {
   "cell_type": "markdown",
   "metadata": {
    "slideshow": {
     "slide_type": "subslide"
    }
   },
   "source": [
    "Jak již bylo řečeno, z datasetu můžeme samozřejmě tyto příznaky úplně odstranit. To bude částí vašeho úkolu. Prozatím je ovšem necháme tak, jak jsou."
   ]
  },
  {
   "cell_type": "code",
   "execution_count": 43,
   "metadata": {},
   "outputs": [],
   "source": [
    "drop_dummies = False\n",
    "if drop_dummies:\n",
    "    data = data.drop(columns=data.columns[data.columns.str.startswith('d_')])"
   ]
  },
  {
   "cell_type": "markdown",
   "metadata": {
    "slideshow": {
     "slide_type": "subslide"
    }
   },
   "source": [
    "### Pokus o natrénování modelu"
   ]
  },
  {
   "cell_type": "markdown",
   "metadata": {},
   "source": [
    "Zkusíme nyní natrénovat model."
   ]
  },
  {
   "cell_type": "code",
   "execution_count": 44,
   "metadata": {
    "slideshow": {
     "slide_type": "fragment"
    }
   },
   "outputs": [
    {
     "name": "stdout",
     "output_type": "stream",
     "text": [
      "Input contains NaN, infinity or a value too large for dtype('float64').\n"
     ]
    }
   ],
   "source": [
    "model = KNeighborsRegressor(n_neighbors=5)\n",
    "try:\n",
    "    model.fit(data.drop(columns=['SalePrice']), data.SalePrice)\n",
    "except Exception as ex:\n",
    "    print(ex)"
   ]
  },
  {
   "cell_type": "markdown",
   "metadata": {
    "slideshow": {
     "slide_type": "fragment"
    }
   },
   "source": [
    "Vypadá to ale, že máme v datasetu nějaké chybějící hodnoty."
   ]
  },
  {
   "cell_type": "code",
   "execution_count": 45,
   "metadata": {
    "slideshow": {
     "slide_type": "-"
    }
   },
   "outputs": [
    {
     "data": {
      "text/plain": [
       "LotFrontage    259\n",
       "MasVnrArea       8\n",
       "GarageYrBlt     81\n",
       "dtype: int64"
      ]
     },
     "execution_count": 45,
     "metadata": {},
     "output_type": "execute_result"
    }
   ],
   "source": [
    "data.loc[:, data.isnull().sum() > 0].isnull().sum()"
   ]
  },
  {
   "cell_type": "markdown",
   "metadata": {
    "slideshow": {
     "slide_type": "subslide"
    }
   },
   "source": [
    "Co s tím?\n",
    "- Můžeme tyto záznamy z datasetu úplně odstranit. Problém ovšem může nastat ve dvou případech:\n",
    "    1. V trénovacím datasetu nemáme příliš mnoho záznamů a nemůžeme si tedy dovolit žádný odstranit.\n",
    "    2. Hodnoty mohou chybět i v testovacím datasetu a v tu chvíli nemáme jak provést predikci.\n",
    "- Můžeme odstranit příznaky, které obsahují chybějící hodnoty. I tady ale mohou vznikat problémy:\n",
    "    1. Příznaků nemusí být mnoho, takže si je nemůžeme dovolit odstranit.\n",
    "    2. Příznaky mohou být důležité a jejich odstraněním bychom značně degradovali kvalitu modelu.\n",
    "- Chybějící hodnoty se můžeme pokusit doplnit."
   ]
  },
  {
   "cell_type": "markdown",
   "metadata": {
    "slideshow": {
     "slide_type": "slide"
    }
   },
   "source": [
    "### Křížová validace"
   ]
  },
  {
   "cell_type": "markdown",
   "metadata": {
    "slideshow": {
     "slide_type": "fragment"
    }
   },
   "source": [
    "<center><img src=\"img/cross-validation.png\" width=\"60%\"></center>"
   ]
  },
  {
   "cell_type": "markdown",
   "metadata": {
    "slideshow": {
     "slide_type": "subslide"
    }
   },
   "source": [
    "- Místo fixně dané validační množiny používáme v každé iteraci různé části trénovací množiny.\n",
    "- Validační chybu průměrujeme přes všechny iterace.\n",
    "- Typicky používáme:\n",
    "    - `KFold`, kde se data rozdělí na `k` stejně velkých částí. Jedna část se použije jako validační množina a zbytek jako trénovací.\n",
    "    - `LeaveOneOut`, kde se jako validační množina použije jeden jediný prvek. V zásadě se jedná o speciální případ `KFold`, kde `k = n`."
   ]
  },
  {
   "cell_type": "markdown",
   "metadata": {
    "slideshow": {
     "slide_type": "subslide"
    }
   },
   "source": [
    "Stejně jako v minulých cvičeních si definujeme rozsahy hyperparemetrů, které budeme zkoumat."
   ]
  },
  {
   "cell_type": "code",
   "execution_count": 46,
   "metadata": {},
   "outputs": [],
   "source": [
    "# Hodnoty hyperparametrů\n",
    "param_grid = {\n",
    "    'n_neighbors' : range(1, 12), # Počet nejbližších sousedů\n",
    "    'p': range(1, 3), # Stupeň Minkowského vzdálenosti\n",
    "    'weights': ['uniform', 'distance'], # Aritmetický, nebo vážený průměr\n",
    "}\n",
    "param_comb = ParameterGrid(param_grid)\n",
    "\n",
    "# Počet foldů (k) křížové validace\n",
    "n_splits = 5\n",
    "\n",
    "# Sloupce\n",
    "missing_cols = data.loc[:, data.isnull().sum() > 0].isnull().columns.to_list()\n",
    "target_col = 'SalePrice'\n",
    "drop_cols = missing_cols + [target_col]"
   ]
  },
  {
   "cell_type": "markdown",
   "metadata": {
    "slideshow": {
     "slide_type": "subslide"
    }
   },
   "source": [
    "Zkusíme nyní křížovou validaci použít při natrénování modelu. Prozatím odstraníme příznaky s chybějícími hodnotami."
   ]
  },
  {
   "cell_type": "code",
   "execution_count": 47,
   "metadata": {},
   "outputs": [
    {
     "name": "stdout",
     "output_type": "stream",
     "text": [
      "Combination 1 / 44\n",
      "Fold 1 / 5\n",
      "Fold 2 / 5\n",
      "Fold 3 / 5\n",
      "Fold 4 / 5\n",
      "Fold 5 / 5\n",
      "Combination 2 / 44\n",
      "Fold 1 / 5\n",
      "Fold 2 / 5\n",
      "Fold 3 / 5\n",
      "Fold 4 / 5\n",
      "Fold 5 / 5\n",
      "Combination 3 / 44\n",
      "Fold 1 / 5\n",
      "Fold 2 / 5\n",
      "Fold 3 / 5\n",
      "Fold 4 / 5\n",
      "Fold 5 / 5\n",
      "Combination 4 / 44\n",
      "Fold 1 / 5\n",
      "Fold 2 / 5\n",
      "Fold 3 / 5\n",
      "Fold 4 / 5\n",
      "Fold 5 / 5\n",
      "Combination 5 / 44\n",
      "Fold 1 / 5\n",
      "Fold 2 / 5\n",
      "Fold 3 / 5\n",
      "Fold 4 / 5\n",
      "Fold 5 / 5\n",
      "Combination 6 / 44\n",
      "Fold 1 / 5\n",
      "Fold 2 / 5\n",
      "Fold 3 / 5\n",
      "Fold 4 / 5\n",
      "Fold 5 / 5\n",
      "Combination 7 / 44\n",
      "Fold 1 / 5\n",
      "Fold 2 / 5\n",
      "Fold 3 / 5\n",
      "Fold 4 / 5\n",
      "Fold 5 / 5\n",
      "Combination 8 / 44\n",
      "Fold 1 / 5\n",
      "Fold 2 / 5\n",
      "Fold 3 / 5\n",
      "Fold 4 / 5\n",
      "Fold 5 / 5\n",
      "Combination 9 / 44\n",
      "Fold 1 / 5\n",
      "Fold 2 / 5\n",
      "Fold 3 / 5\n",
      "Fold 4 / 5\n",
      "Fold 5 / 5\n",
      "Combination 10 / 44\n",
      "Fold 1 / 5\n",
      "Fold 2 / 5\n",
      "Fold 3 / 5\n",
      "Fold 4 / 5\n",
      "Fold 5 / 5\n",
      "Combination 11 / 44\n",
      "Fold 1 / 5\n",
      "Fold 2 / 5\n",
      "Fold 3 / 5\n",
      "Fold 4 / 5\n",
      "Fold 5 / 5\n",
      "Combination 12 / 44\n",
      "Fold 1 / 5\n",
      "Fold 2 / 5\n",
      "Fold 3 / 5\n",
      "Fold 4 / 5\n",
      "Fold 5 / 5\n",
      "Combination 13 / 44\n",
      "Fold 1 / 5\n",
      "Fold 2 / 5\n",
      "Fold 3 / 5\n",
      "Fold 4 / 5\n",
      "Fold 5 / 5\n",
      "Combination 14 / 44\n",
      "Fold 1 / 5\n",
      "Fold 2 / 5\n",
      "Fold 3 / 5\n",
      "Fold 4 / 5\n",
      "Fold 5 / 5\n",
      "Combination 15 / 44\n",
      "Fold 1 / 5\n",
      "Fold 2 / 5\n",
      "Fold 3 / 5\n",
      "Fold 4 / 5\n",
      "Fold 5 / 5\n",
      "Combination 16 / 44\n",
      "Fold 1 / 5\n",
      "Fold 2 / 5\n",
      "Fold 3 / 5\n",
      "Fold 4 / 5\n",
      "Fold 5 / 5\n",
      "Combination 17 / 44\n",
      "Fold 1 / 5\n",
      "Fold 2 / 5\n",
      "Fold 3 / 5\n",
      "Fold 4 / 5\n",
      "Fold 5 / 5\n",
      "Combination 18 / 44\n",
      "Fold 1 / 5\n",
      "Fold 2 / 5\n",
      "Fold 3 / 5\n",
      "Fold 4 / 5\n",
      "Fold 5 / 5\n",
      "Combination 19 / 44\n",
      "Fold 1 / 5\n",
      "Fold 2 / 5\n",
      "Fold 3 / 5\n",
      "Fold 4 / 5\n",
      "Fold 5 / 5\n",
      "Combination 20 / 44\n",
      "Fold 1 / 5\n",
      "Fold 2 / 5\n",
      "Fold 3 / 5\n",
      "Fold 4 / 5\n",
      "Fold 5 / 5\n",
      "Combination 21 / 44\n",
      "Fold 1 / 5\n",
      "Fold 2 / 5\n",
      "Fold 3 / 5\n",
      "Fold 4 / 5\n",
      "Fold 5 / 5\n",
      "Combination 22 / 44\n",
      "Fold 1 / 5\n",
      "Fold 2 / 5\n",
      "Fold 3 / 5\n",
      "Fold 4 / 5\n",
      "Fold 5 / 5\n",
      "Combination 23 / 44\n",
      "Fold 1 / 5\n",
      "Fold 2 / 5\n",
      "Fold 3 / 5\n",
      "Fold 4 / 5\n",
      "Fold 5 / 5\n",
      "Combination 24 / 44\n",
      "Fold 1 / 5\n",
      "Fold 2 / 5\n",
      "Fold 3 / 5\n",
      "Fold 4 / 5\n",
      "Fold 5 / 5\n",
      "Combination 25 / 44\n",
      "Fold 1 / 5\n",
      "Fold 2 / 5\n",
      "Fold 3 / 5\n",
      "Fold 4 / 5\n",
      "Fold 5 / 5\n",
      "Combination 26 / 44\n",
      "Fold 1 / 5\n",
      "Fold 2 / 5\n",
      "Fold 3 / 5\n",
      "Fold 4 / 5\n",
      "Fold 5 / 5\n",
      "Combination 27 / 44\n",
      "Fold 1 / 5\n",
      "Fold 2 / 5\n",
      "Fold 3 / 5\n",
      "Fold 4 / 5\n",
      "Fold 5 / 5\n",
      "Combination 28 / 44\n",
      "Fold 1 / 5\n",
      "Fold 2 / 5\n",
      "Fold 3 / 5\n",
      "Fold 4 / 5\n",
      "Fold 5 / 5\n",
      "Combination 29 / 44\n",
      "Fold 1 / 5\n",
      "Fold 2 / 5\n",
      "Fold 3 / 5\n",
      "Fold 4 / 5\n",
      "Fold 5 / 5\n",
      "Combination 30 / 44\n",
      "Fold 1 / 5\n",
      "Fold 2 / 5\n",
      "Fold 3 / 5\n",
      "Fold 4 / 5\n",
      "Fold 5 / 5\n",
      "Combination 31 / 44\n",
      "Fold 1 / 5\n",
      "Fold 2 / 5\n",
      "Fold 3 / 5\n",
      "Fold 4 / 5\n",
      "Fold 5 / 5\n",
      "Combination 32 / 44\n",
      "Fold 1 / 5\n",
      "Fold 2 / 5\n",
      "Fold 3 / 5\n",
      "Fold 4 / 5\n",
      "Fold 5 / 5\n",
      "Combination 33 / 44\n",
      "Fold 1 / 5\n",
      "Fold 2 / 5\n",
      "Fold 3 / 5\n",
      "Fold 4 / 5\n",
      "Fold 5 / 5\n",
      "Combination 34 / 44\n",
      "Fold 1 / 5\n",
      "Fold 2 / 5\n",
      "Fold 3 / 5\n",
      "Fold 4 / 5\n",
      "Fold 5 / 5\n",
      "Combination 35 / 44\n",
      "Fold 1 / 5\n",
      "Fold 2 / 5\n",
      "Fold 3 / 5\n",
      "Fold 4 / 5\n",
      "Fold 5 / 5\n",
      "Combination 36 / 44\n",
      "Fold 1 / 5\n",
      "Fold 2 / 5\n",
      "Fold 3 / 5\n",
      "Fold 4 / 5\n",
      "Fold 5 / 5\n",
      "Combination 37 / 44\n",
      "Fold 1 / 5\n",
      "Fold 2 / 5\n",
      "Fold 3 / 5\n",
      "Fold 4 / 5\n",
      "Fold 5 / 5\n",
      "Combination 38 / 44\n",
      "Fold 1 / 5\n",
      "Fold 2 / 5\n",
      "Fold 3 / 5\n",
      "Fold 4 / 5\n",
      "Fold 5 / 5\n",
      "Combination 39 / 44\n",
      "Fold 1 / 5\n",
      "Fold 2 / 5\n",
      "Fold 3 / 5\n",
      "Fold 4 / 5\n",
      "Fold 5 / 5\n",
      "Combination 40 / 44\n",
      "Fold 1 / 5\n",
      "Fold 2 / 5\n",
      "Fold 3 / 5\n",
      "Fold 4 / 5\n",
      "Fold 5 / 5\n",
      "Combination 41 / 44\n",
      "Fold 1 / 5\n",
      "Fold 2 / 5\n",
      "Fold 3 / 5\n",
      "Fold 4 / 5\n",
      "Fold 5 / 5\n",
      "Combination 42 / 44\n",
      "Fold 1 / 5\n",
      "Fold 2 / 5\n",
      "Fold 3 / 5\n",
      "Fold 4 / 5\n",
      "Fold 5 / 5\n",
      "Combination 43 / 44\n",
      "Fold 1 / 5\n",
      "Fold 2 / 5\n",
      "Fold 3 / 5\n",
      "Fold 4 / 5\n",
      "Fold 5 / 5\n",
      "Combination 44 / 44\n",
      "Fold 1 / 5\n",
      "Fold 2 / 5\n",
      "Fold 3 / 5\n",
      "Fold 4 / 5\n",
      "Fold 5 / 5\n"
     ]
    }
   ],
   "source": [
    "err = []\n",
    "for params in param_comb:\n",
    "    print('Combination', len(err) + 1, '/', len(param_comb))\n",
    "    \n",
    "    comb_err = []\n",
    "    # Pomocí KFold rozdělíme index na trénovací a validační\n",
    "    for train, val in KFold(n_splits=n_splits, random_state=random_seed).split(data.index):\n",
    "        print('Fold', len(comb_err) + 1, '/', n_splits)\n",
    "        \n",
    "        # Z trénovacích i validačních dat odstraníme sloupce s chybějícími hodnotami\n",
    "        Xtrain = data[data.index.isin(train)].drop(columns=drop_cols)\n",
    "        ytrain = data[data.index.isin(train)][target_col]\n",
    "        Xval = data[data.index.isin(val)].drop(columns=drop_cols)\n",
    "        yval = data[data.index.isin(val)][target_col]\n",
    "        \n",
    "        # Scaler opět nafitujeme podle trénovacích dat a následně transformujeme i validační\n",
    "        scaler = MinMaxScaler()\n",
    "        Xtrain = pd.DataFrame(scaler.fit_transform(Xtrain), index=Xtrain.index, columns=Xtrain.columns)\n",
    "        Xval = pd.DataFrame(scaler.transform(Xval), index=Xval.index, columns=Xval.columns)\n",
    "        \n",
    "        # Natrénujeme model a změříme validační chybu (RMSLE)\n",
    "        model = KNeighborsRegressor(**params)\n",
    "        model.fit(Xtrain, ytrain)\n",
    "        comb_err.append(np.sqrt(metrics.mean_squared_error(yval, model.predict(Xval))))\n",
    "    \n",
    "    # Zprůměrujeme chybu\n",
    "    err.append(np.mean(comb_err))"
   ]
  },
  {
   "cell_type": "code",
   "execution_count": 48,
   "metadata": {
    "scrolled": true,
    "slideshow": {
     "slide_type": "subslide"
    }
   },
   "outputs": [
    {
     "name": "stdout",
     "output_type": "stream",
     "text": [
      "Best params: {'weights': 'distance', 'p': 1, 'n_neighbors': 11}\n",
      "Best RMSLE:  0.01481601678673187\n"
     ]
    }
   ],
   "source": [
    "# Vypíšeme parametry a chybu nejlepšího modelu\n",
    "best_index = np.argmin(err)\n",
    "best_params = param_comb[best_index]\n",
    "best_err = err[best_index]\n",
    "print('Best params:', best_params)\n",
    "print('Best RMSLE: ', best_err)"
   ]
  },
  {
   "cell_type": "markdown",
   "metadata": {
    "slideshow": {
     "slide_type": "fragment"
    }
   },
   "source": [
    "Průměrná validační chyba nejlepšího modelu není úplně špatná. Na [Kagglu](https://www.kaggle.com/c/house-prices-advanced-regression-techniques/leaderboard) ale můžeme vidět, že to jde i znatelně lépe. (Tam už je samozřejmě testovací chyba, ale jistou představu nám to dává.) Začneme tím, že se pokusíme doplnit chybějící hodnoty."
   ]
  },
  {
   "cell_type": "markdown",
   "metadata": {
    "slideshow": {
     "slide_type": "subslide"
    }
   },
   "source": [
    "*Poznámka: Balíček `sklearn` obsahuje řadu dalších funkcí pro křížovou validaci:*\n",
    "  * [cross_val_score](http://scikit-learn.org/stable/modules/generated/sklearn.model_selection.cross_val_score.html)\n",
    "  * [cross_validate](http://scikit-learn.org/stable/modules/generated/sklearn.model_selection.cross_validate.html)\n",
    "  * [GridSearchCV](http://scikit-learn.org/stable/modules/generated/sklearn.model_selection.GridSearchCV.html)"
   ]
  },
  {
   "cell_type": "markdown",
   "metadata": {
    "slideshow": {
     "slide_type": "slide"
    }
   },
   "source": [
    "### Doplnění chybějících hodnot"
   ]
  },
  {
   "cell_type": "markdown",
   "metadata": {
    "slideshow": {
     "slide_type": "fragment"
    }
   },
   "source": [
    "V zásadě existuje mnoho způsobů, jak toho docílit. My si ukážeme dva základní:\n",
    "- Můžeme jednoduše chybějící hodnoty nahradit průměrem příslušného příznaku. Ačkoli to může fungovat, jedná se obecně o poslední možnost, po které bychom měli sáhnout.\n",
    "- Chybějící hodnoty můžeme nahradit hodnotami z nejpodobnějších záznamů. Použijeme tedy metodu kNN!"
   ]
  },
  {
   "cell_type": "markdown",
   "metadata": {
    "slideshow": {
     "slide_type": "subslide"
    }
   },
   "source": [
    "Jak to udělat?\n",
    "- Data rozdělíme na dvě části podle toho, zda v nich chybí hodnoty, nebo nikoli.\n",
    "- Následně natrénujeme model na kompletních hodnotách, přičemž jako predikovanou proměnnou použijeme příznak, který v druhé množině chybí. V našem případě se jedná o příznaky `LotFrontage`, `MasVnrArea` a `GarageYrBlt`.\n",
    "- Hodnoty v druhé množině nyní jednoduše doplníme pomocí predikce."
   ]
  },
  {
   "cell_type": "code",
   "execution_count": null,
   "metadata": {
    "slideshow": {
     "slide_type": "subslide"
    }
   },
   "outputs": [],
   "source": [
    "imputation_err = {}\n",
    "for col in missing_cols:\n",
    "    print('Column', col)\n",
    "    \n",
    "    # Vezme si pouze kompletní data a odstraníme z nich originální odhadovanou proměnnou (SalePrice)\n",
    "    data_notnull = data.dropna().drop(columns=target_col)\n",
    "    \n",
    "    mean_imp_err = []\n",
    "    knn_imp_err = []\n",
    "    for train, val in KFold(n_splits=n_splits, random_state=random_seed).split(data_notnull.index):\n",
    "        print('Fold', len(mean_imp_err) + 1, '/', n_splits)\n",
    "        \n",
    "        # Z dat odstraníme příznaky, ve kterých byly chybějící hodnoty\n",
    "        Xtrain = data_notnull[data_notnull.index.isin(train)].drop(columns=missing_cols)\n",
    "        # Odhaujeme vždy jeden z chybějících sloupců\n",
    "        ytrain = data_notnull[data_notnull.index.isin(train)][col]\n",
    "        Xval = data_notnull[data_notnull.index.isin(val)].drop(columns=missing_cols)\n",
    "        yval = data_notnull[data_notnull.index.isin(val)][col]\n",
    "        \n",
    "        # Scaler opět nafitujeme podle trénovacích dat a následně transformujeme i validační\n",
    "        scaler = MinMaxScaler()\n",
    "        Xtrain = pd.DataFrame(scaler.fit_transform(Xtrain), index=Xtrain.index, columns=Xtrain.columns)\n",
    "        Xval = pd.DataFrame(scaler.transform(Xval), index=Xval.index, columns=Xval.columns)\n",
    "        \n",
    "        # Změříme RMSLE pro doplnění průměrem\n",
    "        mean_imp_err.append(np.sqrt(metrics.mean_squared_log_error(yval, np.ones(len(yval)) * ytrain.mean())))\n",
    "        \n",
    "        # Natrénujeme model pro odhad chybějícího sloupce\n",
    "        model = KNeighborsRegressor(n_neighbors=5, weights='distance')\n",
    "        model.fit(Xtrain, ytrain)\n",
    "        # Změříme RMSLE pro doplnění pomocí kNN\n",
    "        knn_imp_err.append(np.sqrt(metrics.mean_squared_log_error(yval, model.predict(Xval))))\n",
    "    \n",
    "    # Zprůměrujeme chybu\n",
    "    imputation_err[col] = {\n",
    "        'mean': np.mean(mean_imp_err),\n",
    "        'knn': np.mean(knn_imp_err),\n",
    "    }"
   ]
  },
  {
   "cell_type": "code",
   "execution_count": null,
   "metadata": {
    "slideshow": {
     "slide_type": "subslide"
    }
   },
   "outputs": [],
   "source": [
    "# Vypíšeme chybu odhadu pro jednotlivé sloupce\n",
    "for col, err in imputation_err.items():\n",
    "    print('Column', col)\n",
    "    print('Mean imputation RMSLE:', err['mean'])\n",
    "    print('kNN imputation RMSLE: ', err['knn'])\n",
    "    print('')"
   ]
  },
  {
   "cell_type": "markdown",
   "metadata": {
    "slideshow": {
     "slide_type": "fragment"
    }
   },
   "source": [
    "Z výsledků jasně vidíme, že doplňování hodnot pomocí kNN je mnohem přesnější než obyčejné nahrazení průměrem.\n",
    "\n",
    "*Poznámka: Správně bychom měli ještě ladit hyperparametry i pro doplňovací model. To si zkuste v rámci úkolu.*"
   ]
  },
  {
   "cell_type": "markdown",
   "metadata": {
    "slideshow": {
     "slide_type": "subslide"
    }
   },
   "source": [
    "### Trénování modelu s doplněním hodnot pomocí `KNNImputer`"
   ]
  },
  {
   "cell_type": "markdown",
   "metadata": {
    "slideshow": {
     "slide_type": "fragment"
    }
   },
   "source": [
    "Doplňování si ale (ostatně jako řadu jiných věcí) nemusíme psát sami. V modulu `sklearn.impute` najdeme hotovou třídu `KNNImputer`."
   ]
  },
  {
   "cell_type": "code",
   "execution_count": null,
   "metadata": {
    "slideshow": {
     "slide_type": "fragment"
    }
   },
   "outputs": [],
   "source": [
    "err = []\n",
    "for params in param_comb:\n",
    "    print('Combination', len(err) + 1, '/', len(param_comb))\n",
    "    \n",
    "    comb_err = []\n",
    "    for train, val in KFold(n_splits=n_splits, random_state=random_seed).split(data.index):\n",
    "        print('Fold', len(comb_err) + 1, '/', n_splits)\n",
    "        \n",
    "        # Používáme všechna data\n",
    "        Xtrain = data[data.index.isin(train)].drop(columns=target_col)\n",
    "        ytrain = data[data.index.isin(train)][target_col]\n",
    "        Xval = data[data.index.isin(val)].drop(columns=target_col)\n",
    "        yval = data[data.index.isin(val)][target_col]\n",
    "        \n",
    "        # Scaler opět nafitujeme podle trénovacích dat a následně transformujeme i validační\n",
    "        scaler = MinMaxScaler()\n",
    "        Xtrain = pd.DataFrame(scaler.fit_transform(Xtrain), index=Xtrain.index, columns=Xtrain.columns)\n",
    "        Xval = pd.DataFrame(scaler.transform(Xval), index=Xval.index, columns=Xval.columns)\n",
    "        \n",
    "        # KNNImputer nafitujeme na trénovacích datech a následně provedeme doplnění ve validačních datech\n",
    "        imputer = KNNImputer(n_neighbors=5, weights='distance')\n",
    "        Xtrain = pd.DataFrame(imputer.fit_transform(Xtrain), index=Xtrain.index, columns=Xtrain.columns)\n",
    "        Xval = pd.DataFrame(imputer.transform(Xval), index=Xval.index, columns=Xval.columns)\n",
    "        \n",
    "        # Natrénujeme model a změříme validační chybu (RMSLE)\n",
    "        model = KNeighborsRegressor(**params)\n",
    "        model.fit(Xtrain, ytrain)\n",
    "        comb_err.append(np.sqrt(metrics.mean_squared_error(yval, model.predict(Xval))))\n",
    "    \n",
    "    # Zprůměrujeme chybu\n",
    "    err.append(np.mean(comb_err))"
   ]
  },
  {
   "cell_type": "code",
   "execution_count": null,
   "metadata": {
    "slideshow": {
     "slide_type": "subslide"
    }
   },
   "outputs": [],
   "source": [
    "# Vypíšeme parametry a chybu nejlepšího modelu\n",
    "best_index = np.argmin(err)\n",
    "best_params = param_comb[best_index]\n",
    "best_err = err[best_index]\n",
    "print('Best params:', best_params)\n",
    "print('Best RMSLE: ', best_err)"
   ]
  },
  {
   "cell_type": "markdown",
   "metadata": {
    "slideshow": {
     "slide_type": "fragment"
    }
   },
   "source": [
    "Vidíme, že validační chyba je (dle očekávání) opět o něco menší."
   ]
  },
  {
   "cell_type": "markdown",
   "metadata": {
    "slideshow": {
     "slide_type": "slide"
    }
   },
   "source": [
    "## Prokletí dimenzionality"
   ]
  },
  {
   "cell_type": "markdown",
   "metadata": {
    "slideshow": {
     "slide_type": "fragment"
    }
   },
   "source": [
    "- Normalizovaná data jsou rozprostřena v $n$-rozměrné krychli o délce strany 1.\n",
    "- Diagonála této krychle (za použití euklidovské vzdálenosti) měrí $\\sqrt{n}$. To je zároveň nejvyšší možná vzdálenost, jakou mezi sebou dva body mohou mít.\n",
    "- Prokletí dimenzionality znamená, že se zvyšující se dimenzí se vzdálenost k nejbližšímu sousedovi zvyšuje.\n",
    "- Tento efekt můžeme poměrně dobře demonstrovat. Pro různé počty příznaků napočítáme poměr průměrné vzdálenosti k nejbližšímu sousedovi oproti diagonále krychle. (Dostáváme tedy vzdálenost relativní vůči maximální možné.) To samé můžeme spočítat i pro nejvzdálenější sousedy a pro průměr všech sousedů."
   ]
  },
  {
   "cell_type": "code",
   "execution_count": null,
   "metadata": {
    "slideshow": {
     "slide_type": "skip"
    }
   },
   "outputs": [],
   "source": [
    "# Data pro jednoduchost rozdělíme na trénovací a validační a odstraníme z nich příznaky s chybějícími hodnotami\n",
    "train, val = train_test_split(data.index, test_size=0.4, random_state=random_seed)\n",
    "Xtrain = data[data.index.isin(train)].drop(columns=drop_cols)\n",
    "ytrain = data[data.index.isin(train)][target_col]\n",
    "Xval = data[data.index.isin(val)].drop(columns=drop_cols)\n",
    "yval = data[data.index.isin(val)][target_col]\n",
    "\n",
    "# Scaler opět nafitujeme podle trénovacích dat a následně transformujeme i validační\n",
    "scaler = MinMaxScaler()\n",
    "Xtrain = pd.DataFrame(scaler.fit_transform(Xtrain), index=Xtrain.index, columns=Xtrain.columns)\n",
    "Xval = pd.DataFrame(scaler.transform(Xval), index=Xval.index, columns=Xval.columns)\n",
    "\n",
    "min_dist_ratio = []\n",
    "max_dist_ratio = []\n",
    "mean_dist_ratio = []\n",
    "for n in range(1, 80 + 1):\n",
    "    # Natrénujeme model pro různé počty příznaků\n",
    "    model = KNeighborsRegressor(n_neighbors=10, p=2)\n",
    "    model.fit(Xtrain.iloc[:, 0:n], ytrain)\n",
    "    # Změříme vzdálenost pro všechny body z validační množiny\n",
    "    dist, nn = model.kneighbors(Xval.iloc[:, 0:n])\n",
    "    # Spočítáme průměrné vzdálenosti\n",
    "    min_dist_ratio.append(np.mean(np.min(dist, axis=1)) / math.sqrt(n))\n",
    "    max_dist_ratio.append(np.mean(np.max(dist, axis=1)) / math.sqrt(n))\n",
    "    mean_dist_ratio.append(np.mean(np.mean(dist, axis=1)) / math.sqrt(n))"
   ]
  },
  {
   "cell_type": "code",
   "execution_count": null,
   "metadata": {
    "slideshow": {
     "slide_type": "subslide"
    }
   },
   "outputs": [],
   "source": [
    "plt.figure(figsize=(12,5))\n",
    "plt.xlabel('dimensions')\n",
    "plt.plot(range(1, len(min_dist_ratio) + 1), min_dist_ratio, 'go-', alpha=0.25, label='Avg. distance to nearest neighbor')\n",
    "plt.plot(range(1, len(mean_dist_ratio) + 1), mean_dist_ratio, 'bo-', label='Avg. distance to mean of all neighbors')\n",
    "plt.plot(range(1, len(max_dist_ratio) + 1), max_dist_ratio, 'ro-', alpha=0.25, label='Avg. distance to farthest neighbor')\n",
    "plt.legend()\n",
    "plt.show()"
   ]
  },
  {
   "cell_type": "markdown",
   "metadata": {
    "slideshow": {
     "slide_type": "fragment"
    }
   },
   "source": [
    "*K zamyšlení: Proč křivka občas klesá? (Zkuste místo relativní vzdálenosti použít absolutní.)*"
   ]
  },
  {
   "cell_type": "markdown",
   "metadata": {
    "slideshow": {
     "slide_type": "fragment"
    }
   },
   "source": [
    "**Úkol:** Zkuste experimentovat s hyperparametrem `n_neighbors`. Jaký má jeho hodnota vliv na průměrnou vzdálenost? Vykreslete do jednoho grafu křivky pro více hodnot hyperparametru a porovnejte je."
   ]
  },
  {
   "cell_type": "markdown",
   "metadata": {
    "slideshow": {
     "slide_type": "slide"
    }
   },
   "source": [
    "## Úkol"
   ]
  },
  {
   "cell_type": "markdown",
   "metadata": {
    "slideshow": {
     "slide_type": "fragment"
    }
   },
   "source": [
    "- Hrajte si s modelem a pokuste se dosáhnout co nejmenší validační chyby. (Použijte křížovou validaci.)\n",
    "- Zkusit můžete:\n",
    "    - Změnit prohledávatelný rozsah hyperparametrů.\n",
    "    - Úplně odstranit nominální příznaky.\n",
    "    - Použít jinou podmnožinu příznaků.\n",
    "    - Ladit hyperparametry doplňovacího modelu (`KNNImputer`).\n",
    "    - Nepoužívat normalizaci (případně používat jinou).\n",
    "    - Cokoli dalšího vás napadne.\n",
    "- Výsledný model spusťte na testovacích datech (`house-prices-test.csv`) a své predikce (ve formě CSV) nahrajte na [Kaggle](https://www.kaggle.com/c/house-prices-advanced-regression-techniques/submit). CSV musí obsahovat sloupce `Id` a `SalePrice`. (Nezapomeňte na použití inverzní funkce.)"
   ]
  },
  {
   "cell_type": "code",
   "execution_count": null,
   "metadata": {
    "slideshow": {
     "slide_type": "fragment"
    }
   },
   "outputs": [],
   "source": [
    "# Odtud je to vaše.\n"
   ]
  }
 ],
 "metadata": {
  "interpreter": {
   "hash": "ba2bd6d815540f9b91e8189da9940a156019bd39d92ee0fb3276a7227da23388"
  },
  "kernelspec": {
   "display_name": "Python 3.8.10 64-bit ('.venv': venv)",
   "name": "python3"
  },
  "language_info": {
   "codemirror_mode": {
    "name": "ipython",
    "version": 3
   },
   "file_extension": ".py",
   "mimetype": "text/x-python",
   "name": "python",
   "nbconvert_exporter": "python",
   "pygments_lexer": "ipython3",
   "version": "3.8.10"
  }
 },
 "nbformat": 4,
 "nbformat_minor": 4
}
