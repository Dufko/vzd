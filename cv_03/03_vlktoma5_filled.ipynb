{
 "cells": [
  {
   "cell_type": "markdown",
   "metadata": {},
   "source": [
    "# Ensemble metody a regrese pro rozhodovací stromy"
   ]
  },
  {
   "cell_type": "markdown",
   "metadata": {
    "ExecuteTime": {
     "end_time": "2020-10-06T08:54:34.399618Z",
     "start_time": "2020-10-06T08:54:34.390811Z"
    }
   },
   "source": [
    "## Klasifikace a regrese \n",
    "\n",
    "- **Klasifikace**:  V předchozím cvičení jsme zkoušeli natrénovat model, který predikuje přežití pasažérů na Titanicu\n",
    "    - Predikovali jsme veličinu která náleží do diskrétní množiny (zemřel/přežil) $y \\in \\{0, 1\\}$ ✅. \n",
    "- **Regrese**:  V tomto cvičení se zaměříme na predikci spojité hodnoty kterou představuje cena domu\n",
    "    - Problém, ve kterém predikujeme spojitou veličinu označujeme jako problém regrese 📈.\n",
    "\n",
    "![https://miro.medium.com/max/1000/1*aLxkYI8694Ysy6k7WvHbGg.png](https://miro.medium.com/max/1000/1*aLxkYI8694Ysy6k7WvHbGg.png)\n",
    "\n",
    "Rozhodovací stromy a potažmo ensemble metody lze využít jak pro klasifikaci, tak pro regresi! 🚀"
   ]
  },
  {
   "cell_type": "markdown",
   "metadata": {
    "ExecuteTime": {
     "end_time": "2020-10-06T09:16:15.967421Z",
     "start_time": "2020-10-06T09:16:15.959578Z"
    }
   },
   "source": [
    "## Dataset 🏘️\n",
    "- V tomto notebooku si budeme hrát s populárním datasetem stahnutým z [Kaggle.com](https://www.kaggle.com/c/house-prices-advanced-regression-techniques).\n",
    "- Jedná se o údaje o domech a jejich cenách. Cílem je předpovědět **cenu domu** (příznak **SalePrice**) na základě celkem 79 příznaků.\n",
    "\n",
    "Popis jednotlivých dat i jednotlivých příznaků se nachází v souboru `data_description.txt`.\n",
    "\n",
    "```python\n",
    "# Show the data description\n",
    "!cat data_description.txt\n",
    "```\n",
    "\n",
    "![https://storage.googleapis.com/kaggle-competitions/kaggle/5407/media/housesbanner.png](https://storage.googleapis.com/kaggle-competitions/kaggle/5407/media/housesbanner.png)\n"
   ]
  },
  {
   "cell_type": "code",
   "execution_count": 1,
   "metadata": {
    "scrolled": true
   },
   "outputs": [
    {
     "name": "stdout",
     "output_type": "stream",
     "text": [
      "cat: data_description.txt: No such file or directory\n"
     ]
    }
   ],
   "source": [
    "!cat data_description.txt"
   ]
  },
  {
   "cell_type": "code",
   "execution_count": 2,
   "metadata": {
    "ExecuteTime": {
     "end_time": "2020-10-13T18:26:55.202443Z",
     "start_time": "2020-10-13T18:26:52.830432Z"
    }
   },
   "outputs": [],
   "source": [
    "import math\n",
    "import pandas as pd\n",
    "import numpy as np\n",
    "import seaborn as sns\n",
    "import sklearn.metrics as metrics\n",
    "from sklearn.model_selection import ParameterGrid\n",
    "from sklearn.tree import DecisionTreeRegressor\n",
    "import matplotlib.pyplot as plt\n",
    "import matplotlib\n",
    "%matplotlib inline\n",
    "\n",
    "import warnings\n",
    "warnings.filterwarnings('ignore')\n",
    "\n",
    "# Answer to the Ultimate Question of Life, \n",
    "# the Universe, and Everything.\n",
    "random_seed = 42"
   ]
  },
  {
   "cell_type": "code",
   "execution_count": 3,
   "metadata": {
    "ExecuteTime": {
     "end_time": "2020-10-13T18:26:55.235208Z",
     "start_time": "2020-10-13T18:26:55.205007Z"
    }
   },
   "outputs": [
    {
     "ename": "FileNotFoundError",
     "evalue": "[Errno 2] No such file or directory: 'house-prices-train.csv'",
     "output_type": "error",
     "traceback": [
      "\u001b[0;31m---------------------------------------------------------------------------\u001b[0m",
      "\u001b[0;31mFileNotFoundError\u001b[0m                         Traceback (most recent call last)",
      "\u001b[0;32m/tmp/ipykernel_17646/3942139866.py\u001b[0m in \u001b[0;36m<module>\u001b[0;34m\u001b[0m\n\u001b[0;32m----> 1\u001b[0;31m \u001b[0mdf\u001b[0m \u001b[0;34m=\u001b[0m \u001b[0mpd\u001b[0m\u001b[0;34m.\u001b[0m\u001b[0mread_csv\u001b[0m\u001b[0;34m(\u001b[0m\u001b[0;34m'house-prices-train.csv'\u001b[0m\u001b[0;34m)\u001b[0m\u001b[0;34m\u001b[0m\u001b[0;34m\u001b[0m\u001b[0m\n\u001b[0m",
      "\u001b[0;32m~/vzd/.venv/lib/python3.8/site-packages/pandas/util/_decorators.py\u001b[0m in \u001b[0;36mwrapper\u001b[0;34m(*args, **kwargs)\u001b[0m\n\u001b[1;32m    309\u001b[0m                     \u001b[0mstacklevel\u001b[0m\u001b[0;34m=\u001b[0m\u001b[0mstacklevel\u001b[0m\u001b[0;34m,\u001b[0m\u001b[0;34m\u001b[0m\u001b[0;34m\u001b[0m\u001b[0m\n\u001b[1;32m    310\u001b[0m                 )\n\u001b[0;32m--> 311\u001b[0;31m             \u001b[0;32mreturn\u001b[0m \u001b[0mfunc\u001b[0m\u001b[0;34m(\u001b[0m\u001b[0;34m*\u001b[0m\u001b[0margs\u001b[0m\u001b[0;34m,\u001b[0m \u001b[0;34m**\u001b[0m\u001b[0mkwargs\u001b[0m\u001b[0;34m)\u001b[0m\u001b[0;34m\u001b[0m\u001b[0;34m\u001b[0m\u001b[0m\n\u001b[0m\u001b[1;32m    312\u001b[0m \u001b[0;34m\u001b[0m\u001b[0m\n\u001b[1;32m    313\u001b[0m         \u001b[0;32mreturn\u001b[0m \u001b[0mwrapper\u001b[0m\u001b[0;34m\u001b[0m\u001b[0;34m\u001b[0m\u001b[0m\n",
      "\u001b[0;32m~/vzd/.venv/lib/python3.8/site-packages/pandas/io/parsers/readers.py\u001b[0m in \u001b[0;36mread_csv\u001b[0;34m(filepath_or_buffer, sep, delimiter, header, names, index_col, usecols, squeeze, prefix, mangle_dupe_cols, dtype, engine, converters, true_values, false_values, skipinitialspace, skiprows, skipfooter, nrows, na_values, keep_default_na, na_filter, verbose, skip_blank_lines, parse_dates, infer_datetime_format, keep_date_col, date_parser, dayfirst, cache_dates, iterator, chunksize, compression, thousands, decimal, lineterminator, quotechar, quoting, doublequote, escapechar, comment, encoding, encoding_errors, dialect, error_bad_lines, warn_bad_lines, on_bad_lines, delim_whitespace, low_memory, memory_map, float_precision, storage_options)\u001b[0m\n\u001b[1;32m    584\u001b[0m     \u001b[0mkwds\u001b[0m\u001b[0;34m.\u001b[0m\u001b[0mupdate\u001b[0m\u001b[0;34m(\u001b[0m\u001b[0mkwds_defaults\u001b[0m\u001b[0;34m)\u001b[0m\u001b[0;34m\u001b[0m\u001b[0;34m\u001b[0m\u001b[0m\n\u001b[1;32m    585\u001b[0m \u001b[0;34m\u001b[0m\u001b[0m\n\u001b[0;32m--> 586\u001b[0;31m     \u001b[0;32mreturn\u001b[0m \u001b[0m_read\u001b[0m\u001b[0;34m(\u001b[0m\u001b[0mfilepath_or_buffer\u001b[0m\u001b[0;34m,\u001b[0m \u001b[0mkwds\u001b[0m\u001b[0;34m)\u001b[0m\u001b[0;34m\u001b[0m\u001b[0;34m\u001b[0m\u001b[0m\n\u001b[0m\u001b[1;32m    587\u001b[0m \u001b[0;34m\u001b[0m\u001b[0m\n\u001b[1;32m    588\u001b[0m \u001b[0;34m\u001b[0m\u001b[0m\n",
      "\u001b[0;32m~/vzd/.venv/lib/python3.8/site-packages/pandas/io/parsers/readers.py\u001b[0m in \u001b[0;36m_read\u001b[0;34m(filepath_or_buffer, kwds)\u001b[0m\n\u001b[1;32m    480\u001b[0m \u001b[0;34m\u001b[0m\u001b[0m\n\u001b[1;32m    481\u001b[0m     \u001b[0;31m# Create the parser.\u001b[0m\u001b[0;34m\u001b[0m\u001b[0;34m\u001b[0m\u001b[0;34m\u001b[0m\u001b[0m\n\u001b[0;32m--> 482\u001b[0;31m     \u001b[0mparser\u001b[0m \u001b[0;34m=\u001b[0m \u001b[0mTextFileReader\u001b[0m\u001b[0;34m(\u001b[0m\u001b[0mfilepath_or_buffer\u001b[0m\u001b[0;34m,\u001b[0m \u001b[0;34m**\u001b[0m\u001b[0mkwds\u001b[0m\u001b[0;34m)\u001b[0m\u001b[0;34m\u001b[0m\u001b[0;34m\u001b[0m\u001b[0m\n\u001b[0m\u001b[1;32m    483\u001b[0m \u001b[0;34m\u001b[0m\u001b[0m\n\u001b[1;32m    484\u001b[0m     \u001b[0;32mif\u001b[0m \u001b[0mchunksize\u001b[0m \u001b[0;32mor\u001b[0m \u001b[0miterator\u001b[0m\u001b[0;34m:\u001b[0m\u001b[0;34m\u001b[0m\u001b[0;34m\u001b[0m\u001b[0m\n",
      "\u001b[0;32m~/vzd/.venv/lib/python3.8/site-packages/pandas/io/parsers/readers.py\u001b[0m in \u001b[0;36m__init__\u001b[0;34m(self, f, engine, **kwds)\u001b[0m\n\u001b[1;32m    809\u001b[0m             \u001b[0mself\u001b[0m\u001b[0;34m.\u001b[0m\u001b[0moptions\u001b[0m\u001b[0;34m[\u001b[0m\u001b[0;34m\"has_index_names\"\u001b[0m\u001b[0;34m]\u001b[0m \u001b[0;34m=\u001b[0m \u001b[0mkwds\u001b[0m\u001b[0;34m[\u001b[0m\u001b[0;34m\"has_index_names\"\u001b[0m\u001b[0;34m]\u001b[0m\u001b[0;34m\u001b[0m\u001b[0;34m\u001b[0m\u001b[0m\n\u001b[1;32m    810\u001b[0m \u001b[0;34m\u001b[0m\u001b[0m\n\u001b[0;32m--> 811\u001b[0;31m         \u001b[0mself\u001b[0m\u001b[0;34m.\u001b[0m\u001b[0m_engine\u001b[0m \u001b[0;34m=\u001b[0m \u001b[0mself\u001b[0m\u001b[0;34m.\u001b[0m\u001b[0m_make_engine\u001b[0m\u001b[0;34m(\u001b[0m\u001b[0mself\u001b[0m\u001b[0;34m.\u001b[0m\u001b[0mengine\u001b[0m\u001b[0;34m)\u001b[0m\u001b[0;34m\u001b[0m\u001b[0;34m\u001b[0m\u001b[0m\n\u001b[0m\u001b[1;32m    812\u001b[0m \u001b[0;34m\u001b[0m\u001b[0m\n\u001b[1;32m    813\u001b[0m     \u001b[0;32mdef\u001b[0m \u001b[0mclose\u001b[0m\u001b[0;34m(\u001b[0m\u001b[0mself\u001b[0m\u001b[0;34m)\u001b[0m\u001b[0;34m:\u001b[0m\u001b[0;34m\u001b[0m\u001b[0;34m\u001b[0m\u001b[0m\n",
      "\u001b[0;32m~/vzd/.venv/lib/python3.8/site-packages/pandas/io/parsers/readers.py\u001b[0m in \u001b[0;36m_make_engine\u001b[0;34m(self, engine)\u001b[0m\n\u001b[1;32m   1038\u001b[0m             )\n\u001b[1;32m   1039\u001b[0m         \u001b[0;31m# error: Too many arguments for \"ParserBase\"\u001b[0m\u001b[0;34m\u001b[0m\u001b[0;34m\u001b[0m\u001b[0;34m\u001b[0m\u001b[0m\n\u001b[0;32m-> 1040\u001b[0;31m         \u001b[0;32mreturn\u001b[0m \u001b[0mmapping\u001b[0m\u001b[0;34m[\u001b[0m\u001b[0mengine\u001b[0m\u001b[0;34m]\u001b[0m\u001b[0;34m(\u001b[0m\u001b[0mself\u001b[0m\u001b[0;34m.\u001b[0m\u001b[0mf\u001b[0m\u001b[0;34m,\u001b[0m \u001b[0;34m**\u001b[0m\u001b[0mself\u001b[0m\u001b[0;34m.\u001b[0m\u001b[0moptions\u001b[0m\u001b[0;34m)\u001b[0m  \u001b[0;31m# type: ignore[call-arg]\u001b[0m\u001b[0;34m\u001b[0m\u001b[0;34m\u001b[0m\u001b[0m\n\u001b[0m\u001b[1;32m   1041\u001b[0m \u001b[0;34m\u001b[0m\u001b[0m\n\u001b[1;32m   1042\u001b[0m     \u001b[0;32mdef\u001b[0m \u001b[0m_failover_to_python\u001b[0m\u001b[0;34m(\u001b[0m\u001b[0mself\u001b[0m\u001b[0;34m)\u001b[0m\u001b[0;34m:\u001b[0m\u001b[0;34m\u001b[0m\u001b[0;34m\u001b[0m\u001b[0m\n",
      "\u001b[0;32m~/vzd/.venv/lib/python3.8/site-packages/pandas/io/parsers/c_parser_wrapper.py\u001b[0m in \u001b[0;36m__init__\u001b[0;34m(self, src, **kwds)\u001b[0m\n\u001b[1;32m     49\u001b[0m \u001b[0;34m\u001b[0m\u001b[0m\n\u001b[1;32m     50\u001b[0m         \u001b[0;31m# open handles\u001b[0m\u001b[0;34m\u001b[0m\u001b[0;34m\u001b[0m\u001b[0;34m\u001b[0m\u001b[0m\n\u001b[0;32m---> 51\u001b[0;31m         \u001b[0mself\u001b[0m\u001b[0;34m.\u001b[0m\u001b[0m_open_handles\u001b[0m\u001b[0;34m(\u001b[0m\u001b[0msrc\u001b[0m\u001b[0;34m,\u001b[0m \u001b[0mkwds\u001b[0m\u001b[0;34m)\u001b[0m\u001b[0;34m\u001b[0m\u001b[0;34m\u001b[0m\u001b[0m\n\u001b[0m\u001b[1;32m     52\u001b[0m         \u001b[0;32massert\u001b[0m \u001b[0mself\u001b[0m\u001b[0;34m.\u001b[0m\u001b[0mhandles\u001b[0m \u001b[0;32mis\u001b[0m \u001b[0;32mnot\u001b[0m \u001b[0;32mNone\u001b[0m\u001b[0;34m\u001b[0m\u001b[0;34m\u001b[0m\u001b[0m\n\u001b[1;32m     53\u001b[0m \u001b[0;34m\u001b[0m\u001b[0m\n",
      "\u001b[0;32m~/vzd/.venv/lib/python3.8/site-packages/pandas/io/parsers/base_parser.py\u001b[0m in \u001b[0;36m_open_handles\u001b[0;34m(self, src, kwds)\u001b[0m\n\u001b[1;32m    220\u001b[0m         \u001b[0mLet\u001b[0m \u001b[0mthe\u001b[0m \u001b[0mreaders\u001b[0m \u001b[0mopen\u001b[0m \u001b[0mIOHandles\u001b[0m \u001b[0mafter\u001b[0m \u001b[0mthey\u001b[0m \u001b[0mare\u001b[0m \u001b[0mdone\u001b[0m \u001b[0;32mwith\u001b[0m \u001b[0mtheir\u001b[0m \u001b[0mpotential\u001b[0m \u001b[0mraises\u001b[0m\u001b[0;34m.\u001b[0m\u001b[0;34m\u001b[0m\u001b[0;34m\u001b[0m\u001b[0m\n\u001b[1;32m    221\u001b[0m         \"\"\"\n\u001b[0;32m--> 222\u001b[0;31m         self.handles = get_handle(\n\u001b[0m\u001b[1;32m    223\u001b[0m             \u001b[0msrc\u001b[0m\u001b[0;34m,\u001b[0m\u001b[0;34m\u001b[0m\u001b[0;34m\u001b[0m\u001b[0m\n\u001b[1;32m    224\u001b[0m             \u001b[0;34m\"r\"\u001b[0m\u001b[0;34m,\u001b[0m\u001b[0;34m\u001b[0m\u001b[0;34m\u001b[0m\u001b[0m\n",
      "\u001b[0;32m~/vzd/.venv/lib/python3.8/site-packages/pandas/io/common.py\u001b[0m in \u001b[0;36mget_handle\u001b[0;34m(path_or_buf, mode, encoding, compression, memory_map, is_text, errors, storage_options)\u001b[0m\n\u001b[1;32m    700\u001b[0m         \u001b[0;32mif\u001b[0m \u001b[0mioargs\u001b[0m\u001b[0;34m.\u001b[0m\u001b[0mencoding\u001b[0m \u001b[0;32mand\u001b[0m \u001b[0;34m\"b\"\u001b[0m \u001b[0;32mnot\u001b[0m \u001b[0;32min\u001b[0m \u001b[0mioargs\u001b[0m\u001b[0;34m.\u001b[0m\u001b[0mmode\u001b[0m\u001b[0;34m:\u001b[0m\u001b[0;34m\u001b[0m\u001b[0;34m\u001b[0m\u001b[0m\n\u001b[1;32m    701\u001b[0m             \u001b[0;31m# Encoding\u001b[0m\u001b[0;34m\u001b[0m\u001b[0;34m\u001b[0m\u001b[0;34m\u001b[0m\u001b[0m\n\u001b[0;32m--> 702\u001b[0;31m             handle = open(\n\u001b[0m\u001b[1;32m    703\u001b[0m                 \u001b[0mhandle\u001b[0m\u001b[0;34m,\u001b[0m\u001b[0;34m\u001b[0m\u001b[0;34m\u001b[0m\u001b[0m\n\u001b[1;32m    704\u001b[0m                 \u001b[0mioargs\u001b[0m\u001b[0;34m.\u001b[0m\u001b[0mmode\u001b[0m\u001b[0;34m,\u001b[0m\u001b[0;34m\u001b[0m\u001b[0;34m\u001b[0m\u001b[0m\n",
      "\u001b[0;31mFileNotFoundError\u001b[0m: [Errno 2] No such file or directory: 'house-prices-train.csv'"
     ]
    }
   ],
   "source": [
    "df = pd.read_csv('house-prices-train.csv')"
   ]
  },
  {
   "cell_type": "code",
   "execution_count": null,
   "metadata": {},
   "outputs": [
    {
     "data": {
      "text/html": [
       "<div>\n",
       "<style scoped>\n",
       "    .dataframe tbody tr th:only-of-type {\n",
       "        vertical-align: middle;\n",
       "    }\n",
       "\n",
       "    .dataframe tbody tr th {\n",
       "        vertical-align: top;\n",
       "    }\n",
       "\n",
       "    .dataframe thead th {\n",
       "        text-align: right;\n",
       "    }\n",
       "</style>\n",
       "<table border=\"1\" class=\"dataframe\">\n",
       "  <thead>\n",
       "    <tr style=\"text-align: right;\">\n",
       "      <th></th>\n",
       "      <th>Id</th>\n",
       "      <th>MSSubClass</th>\n",
       "      <th>MSZoning</th>\n",
       "      <th>LotFrontage</th>\n",
       "      <th>LotArea</th>\n",
       "      <th>Street</th>\n",
       "      <th>Alley</th>\n",
       "      <th>LotShape</th>\n",
       "      <th>LandContour</th>\n",
       "      <th>Utilities</th>\n",
       "      <th>...</th>\n",
       "      <th>PoolArea</th>\n",
       "      <th>PoolQC</th>\n",
       "      <th>Fence</th>\n",
       "      <th>MiscFeature</th>\n",
       "      <th>MiscVal</th>\n",
       "      <th>MoSold</th>\n",
       "      <th>YrSold</th>\n",
       "      <th>SaleType</th>\n",
       "      <th>SaleCondition</th>\n",
       "      <th>SalePrice</th>\n",
       "    </tr>\n",
       "  </thead>\n",
       "  <tbody>\n",
       "    <tr>\n",
       "      <th>0</th>\n",
       "      <td>1</td>\n",
       "      <td>60</td>\n",
       "      <td>RL</td>\n",
       "      <td>65.0</td>\n",
       "      <td>8450</td>\n",
       "      <td>Pave</td>\n",
       "      <td>NaN</td>\n",
       "      <td>Reg</td>\n",
       "      <td>Lvl</td>\n",
       "      <td>AllPub</td>\n",
       "      <td>...</td>\n",
       "      <td>0</td>\n",
       "      <td>NaN</td>\n",
       "      <td>NaN</td>\n",
       "      <td>NaN</td>\n",
       "      <td>0</td>\n",
       "      <td>2</td>\n",
       "      <td>2008</td>\n",
       "      <td>WD</td>\n",
       "      <td>Normal</td>\n",
       "      <td>208500</td>\n",
       "    </tr>\n",
       "    <tr>\n",
       "      <th>1</th>\n",
       "      <td>2</td>\n",
       "      <td>20</td>\n",
       "      <td>RL</td>\n",
       "      <td>80.0</td>\n",
       "      <td>9600</td>\n",
       "      <td>Pave</td>\n",
       "      <td>NaN</td>\n",
       "      <td>Reg</td>\n",
       "      <td>Lvl</td>\n",
       "      <td>AllPub</td>\n",
       "      <td>...</td>\n",
       "      <td>0</td>\n",
       "      <td>NaN</td>\n",
       "      <td>NaN</td>\n",
       "      <td>NaN</td>\n",
       "      <td>0</td>\n",
       "      <td>5</td>\n",
       "      <td>2007</td>\n",
       "      <td>WD</td>\n",
       "      <td>Normal</td>\n",
       "      <td>181500</td>\n",
       "    </tr>\n",
       "    <tr>\n",
       "      <th>2</th>\n",
       "      <td>3</td>\n",
       "      <td>60</td>\n",
       "      <td>RL</td>\n",
       "      <td>68.0</td>\n",
       "      <td>11250</td>\n",
       "      <td>Pave</td>\n",
       "      <td>NaN</td>\n",
       "      <td>IR1</td>\n",
       "      <td>Lvl</td>\n",
       "      <td>AllPub</td>\n",
       "      <td>...</td>\n",
       "      <td>0</td>\n",
       "      <td>NaN</td>\n",
       "      <td>NaN</td>\n",
       "      <td>NaN</td>\n",
       "      <td>0</td>\n",
       "      <td>9</td>\n",
       "      <td>2008</td>\n",
       "      <td>WD</td>\n",
       "      <td>Normal</td>\n",
       "      <td>223500</td>\n",
       "    </tr>\n",
       "    <tr>\n",
       "      <th>3</th>\n",
       "      <td>4</td>\n",
       "      <td>70</td>\n",
       "      <td>RL</td>\n",
       "      <td>60.0</td>\n",
       "      <td>9550</td>\n",
       "      <td>Pave</td>\n",
       "      <td>NaN</td>\n",
       "      <td>IR1</td>\n",
       "      <td>Lvl</td>\n",
       "      <td>AllPub</td>\n",
       "      <td>...</td>\n",
       "      <td>0</td>\n",
       "      <td>NaN</td>\n",
       "      <td>NaN</td>\n",
       "      <td>NaN</td>\n",
       "      <td>0</td>\n",
       "      <td>2</td>\n",
       "      <td>2006</td>\n",
       "      <td>WD</td>\n",
       "      <td>Abnorml</td>\n",
       "      <td>140000</td>\n",
       "    </tr>\n",
       "    <tr>\n",
       "      <th>4</th>\n",
       "      <td>5</td>\n",
       "      <td>60</td>\n",
       "      <td>RL</td>\n",
       "      <td>84.0</td>\n",
       "      <td>14260</td>\n",
       "      <td>Pave</td>\n",
       "      <td>NaN</td>\n",
       "      <td>IR1</td>\n",
       "      <td>Lvl</td>\n",
       "      <td>AllPub</td>\n",
       "      <td>...</td>\n",
       "      <td>0</td>\n",
       "      <td>NaN</td>\n",
       "      <td>NaN</td>\n",
       "      <td>NaN</td>\n",
       "      <td>0</td>\n",
       "      <td>12</td>\n",
       "      <td>2008</td>\n",
       "      <td>WD</td>\n",
       "      <td>Normal</td>\n",
       "      <td>250000</td>\n",
       "    </tr>\n",
       "    <tr>\n",
       "      <th>...</th>\n",
       "      <td>...</td>\n",
       "      <td>...</td>\n",
       "      <td>...</td>\n",
       "      <td>...</td>\n",
       "      <td>...</td>\n",
       "      <td>...</td>\n",
       "      <td>...</td>\n",
       "      <td>...</td>\n",
       "      <td>...</td>\n",
       "      <td>...</td>\n",
       "      <td>...</td>\n",
       "      <td>...</td>\n",
       "      <td>...</td>\n",
       "      <td>...</td>\n",
       "      <td>...</td>\n",
       "      <td>...</td>\n",
       "      <td>...</td>\n",
       "      <td>...</td>\n",
       "      <td>...</td>\n",
       "      <td>...</td>\n",
       "      <td>...</td>\n",
       "    </tr>\n",
       "    <tr>\n",
       "      <th>1455</th>\n",
       "      <td>1456</td>\n",
       "      <td>60</td>\n",
       "      <td>RL</td>\n",
       "      <td>62.0</td>\n",
       "      <td>7917</td>\n",
       "      <td>Pave</td>\n",
       "      <td>NaN</td>\n",
       "      <td>Reg</td>\n",
       "      <td>Lvl</td>\n",
       "      <td>AllPub</td>\n",
       "      <td>...</td>\n",
       "      <td>0</td>\n",
       "      <td>NaN</td>\n",
       "      <td>NaN</td>\n",
       "      <td>NaN</td>\n",
       "      <td>0</td>\n",
       "      <td>8</td>\n",
       "      <td>2007</td>\n",
       "      <td>WD</td>\n",
       "      <td>Normal</td>\n",
       "      <td>175000</td>\n",
       "    </tr>\n",
       "    <tr>\n",
       "      <th>1456</th>\n",
       "      <td>1457</td>\n",
       "      <td>20</td>\n",
       "      <td>RL</td>\n",
       "      <td>85.0</td>\n",
       "      <td>13175</td>\n",
       "      <td>Pave</td>\n",
       "      <td>NaN</td>\n",
       "      <td>Reg</td>\n",
       "      <td>Lvl</td>\n",
       "      <td>AllPub</td>\n",
       "      <td>...</td>\n",
       "      <td>0</td>\n",
       "      <td>NaN</td>\n",
       "      <td>MnPrv</td>\n",
       "      <td>NaN</td>\n",
       "      <td>0</td>\n",
       "      <td>2</td>\n",
       "      <td>2010</td>\n",
       "      <td>WD</td>\n",
       "      <td>Normal</td>\n",
       "      <td>210000</td>\n",
       "    </tr>\n",
       "    <tr>\n",
       "      <th>1457</th>\n",
       "      <td>1458</td>\n",
       "      <td>70</td>\n",
       "      <td>RL</td>\n",
       "      <td>66.0</td>\n",
       "      <td>9042</td>\n",
       "      <td>Pave</td>\n",
       "      <td>NaN</td>\n",
       "      <td>Reg</td>\n",
       "      <td>Lvl</td>\n",
       "      <td>AllPub</td>\n",
       "      <td>...</td>\n",
       "      <td>0</td>\n",
       "      <td>NaN</td>\n",
       "      <td>GdPrv</td>\n",
       "      <td>Shed</td>\n",
       "      <td>2500</td>\n",
       "      <td>5</td>\n",
       "      <td>2010</td>\n",
       "      <td>WD</td>\n",
       "      <td>Normal</td>\n",
       "      <td>266500</td>\n",
       "    </tr>\n",
       "    <tr>\n",
       "      <th>1458</th>\n",
       "      <td>1459</td>\n",
       "      <td>20</td>\n",
       "      <td>RL</td>\n",
       "      <td>68.0</td>\n",
       "      <td>9717</td>\n",
       "      <td>Pave</td>\n",
       "      <td>NaN</td>\n",
       "      <td>Reg</td>\n",
       "      <td>Lvl</td>\n",
       "      <td>AllPub</td>\n",
       "      <td>...</td>\n",
       "      <td>0</td>\n",
       "      <td>NaN</td>\n",
       "      <td>NaN</td>\n",
       "      <td>NaN</td>\n",
       "      <td>0</td>\n",
       "      <td>4</td>\n",
       "      <td>2010</td>\n",
       "      <td>WD</td>\n",
       "      <td>Normal</td>\n",
       "      <td>142125</td>\n",
       "    </tr>\n",
       "    <tr>\n",
       "      <th>1459</th>\n",
       "      <td>1460</td>\n",
       "      <td>20</td>\n",
       "      <td>RL</td>\n",
       "      <td>75.0</td>\n",
       "      <td>9937</td>\n",
       "      <td>Pave</td>\n",
       "      <td>NaN</td>\n",
       "      <td>Reg</td>\n",
       "      <td>Lvl</td>\n",
       "      <td>AllPub</td>\n",
       "      <td>...</td>\n",
       "      <td>0</td>\n",
       "      <td>NaN</td>\n",
       "      <td>NaN</td>\n",
       "      <td>NaN</td>\n",
       "      <td>0</td>\n",
       "      <td>6</td>\n",
       "      <td>2008</td>\n",
       "      <td>WD</td>\n",
       "      <td>Normal</td>\n",
       "      <td>147500</td>\n",
       "    </tr>\n",
       "  </tbody>\n",
       "</table>\n",
       "<p>1460 rows × 81 columns</p>\n",
       "</div>"
      ],
      "text/plain": [
       "        Id  MSSubClass MSZoning  LotFrontage  LotArea Street Alley LotShape  \\\n",
       "0        1          60       RL         65.0     8450   Pave   NaN      Reg   \n",
       "1        2          20       RL         80.0     9600   Pave   NaN      Reg   \n",
       "2        3          60       RL         68.0    11250   Pave   NaN      IR1   \n",
       "3        4          70       RL         60.0     9550   Pave   NaN      IR1   \n",
       "4        5          60       RL         84.0    14260   Pave   NaN      IR1   \n",
       "...    ...         ...      ...          ...      ...    ...   ...      ...   \n",
       "1455  1456          60       RL         62.0     7917   Pave   NaN      Reg   \n",
       "1456  1457          20       RL         85.0    13175   Pave   NaN      Reg   \n",
       "1457  1458          70       RL         66.0     9042   Pave   NaN      Reg   \n",
       "1458  1459          20       RL         68.0     9717   Pave   NaN      Reg   \n",
       "1459  1460          20       RL         75.0     9937   Pave   NaN      Reg   \n",
       "\n",
       "     LandContour Utilities  ... PoolArea PoolQC  Fence MiscFeature MiscVal  \\\n",
       "0            Lvl    AllPub  ...        0    NaN    NaN         NaN       0   \n",
       "1            Lvl    AllPub  ...        0    NaN    NaN         NaN       0   \n",
       "2            Lvl    AllPub  ...        0    NaN    NaN         NaN       0   \n",
       "3            Lvl    AllPub  ...        0    NaN    NaN         NaN       0   \n",
       "4            Lvl    AllPub  ...        0    NaN    NaN         NaN       0   \n",
       "...          ...       ...  ...      ...    ...    ...         ...     ...   \n",
       "1455         Lvl    AllPub  ...        0    NaN    NaN         NaN       0   \n",
       "1456         Lvl    AllPub  ...        0    NaN  MnPrv         NaN       0   \n",
       "1457         Lvl    AllPub  ...        0    NaN  GdPrv        Shed    2500   \n",
       "1458         Lvl    AllPub  ...        0    NaN    NaN         NaN       0   \n",
       "1459         Lvl    AllPub  ...        0    NaN    NaN         NaN       0   \n",
       "\n",
       "     MoSold YrSold  SaleType  SaleCondition  SalePrice  \n",
       "0         2   2008        WD         Normal     208500  \n",
       "1         5   2007        WD         Normal     181500  \n",
       "2         9   2008        WD         Normal     223500  \n",
       "3         2   2006        WD        Abnorml     140000  \n",
       "4        12   2008        WD         Normal     250000  \n",
       "...     ...    ...       ...            ...        ...  \n",
       "1455      8   2007        WD         Normal     175000  \n",
       "1456      2   2010        WD         Normal     210000  \n",
       "1457      5   2010        WD         Normal     266500  \n",
       "1458      4   2010        WD         Normal     142125  \n",
       "1459      6   2008        WD         Normal     147500  \n",
       "\n",
       "[1460 rows x 81 columns]"
      ]
     },
     "execution_count": 4,
     "metadata": {},
     "output_type": "execute_result"
    }
   ],
   "source": [
    "df"
   ]
  },
  {
   "cell_type": "markdown",
   "metadata": {},
   "source": [
    "# Data preprocessing\n",
    "První věc co po otevření datasetu uděláme? Zobrazíme si základní informace 😎."
   ]
  },
  {
   "cell_type": "code",
   "execution_count": null,
   "metadata": {
    "ExecuteTime": {
     "end_time": "2020-10-13T18:26:55.262409Z",
     "start_time": "2020-10-13T18:26:55.239304Z"
    }
   },
   "outputs": [
    {
     "name": "stdout",
     "output_type": "stream",
     "text": [
      "<class 'pandas.core.frame.DataFrame'>\n",
      "RangeIndex: 1460 entries, 0 to 1459\n",
      "Data columns (total 81 columns):\n",
      " #   Column         Non-Null Count  Dtype  \n",
      "---  ------         --------------  -----  \n",
      " 0   Id             1460 non-null   int64  \n",
      " 1   MSSubClass     1460 non-null   int64  \n",
      " 2   MSZoning       1460 non-null   object \n",
      " 3   LotFrontage    1201 non-null   float64\n",
      " 4   LotArea        1460 non-null   int64  \n",
      " 5   Street         1460 non-null   object \n",
      " 6   Alley          91 non-null     object \n",
      " 7   LotShape       1460 non-null   object \n",
      " 8   LandContour    1460 non-null   object \n",
      " 9   Utilities      1460 non-null   object \n",
      " 10  LotConfig      1460 non-null   object \n",
      " 11  LandSlope      1460 non-null   object \n",
      " 12  Neighborhood   1460 non-null   object \n",
      " 13  Condition1     1460 non-null   object \n",
      " 14  Condition2     1460 non-null   object \n",
      " 15  BldgType       1460 non-null   object \n",
      " 16  HouseStyle     1460 non-null   object \n",
      " 17  OverallQual    1460 non-null   int64  \n",
      " 18  OverallCond    1460 non-null   int64  \n",
      " 19  YearBuilt      1460 non-null   int64  \n",
      " 20  YearRemodAdd   1460 non-null   int64  \n",
      " 21  RoofStyle      1460 non-null   object \n",
      " 22  RoofMatl       1460 non-null   object \n",
      " 23  Exterior1st    1460 non-null   object \n",
      " 24  Exterior2nd    1460 non-null   object \n",
      " 25  MasVnrType     1452 non-null   object \n",
      " 26  MasVnrArea     1452 non-null   float64\n",
      " 27  ExterQual      1460 non-null   object \n",
      " 28  ExterCond      1460 non-null   object \n",
      " 29  Foundation     1460 non-null   object \n",
      " 30  BsmtQual       1423 non-null   object \n",
      " 31  BsmtCond       1423 non-null   object \n",
      " 32  BsmtExposure   1422 non-null   object \n",
      " 33  BsmtFinType1   1423 non-null   object \n",
      " 34  BsmtFinSF1     1460 non-null   int64  \n",
      " 35  BsmtFinType2   1422 non-null   object \n",
      " 36  BsmtFinSF2     1460 non-null   int64  \n",
      " 37  BsmtUnfSF      1460 non-null   int64  \n",
      " 38  TotalBsmtSF    1460 non-null   int64  \n",
      " 39  Heating        1460 non-null   object \n",
      " 40  HeatingQC      1460 non-null   object \n",
      " 41  CentralAir     1460 non-null   object \n",
      " 42  Electrical     1459 non-null   object \n",
      " 43  1stFlrSF       1460 non-null   int64  \n",
      " 44  2ndFlrSF       1460 non-null   int64  \n",
      " 45  LowQualFinSF   1460 non-null   int64  \n",
      " 46  GrLivArea      1460 non-null   int64  \n",
      " 47  BsmtFullBath   1460 non-null   int64  \n",
      " 48  BsmtHalfBath   1460 non-null   int64  \n",
      " 49  FullBath       1460 non-null   int64  \n",
      " 50  HalfBath       1460 non-null   int64  \n",
      " 51  BedroomAbvGr   1460 non-null   int64  \n",
      " 52  KitchenAbvGr   1460 non-null   int64  \n",
      " 53  KitchenQual    1460 non-null   object \n",
      " 54  TotRmsAbvGrd   1460 non-null   int64  \n",
      " 55  Functional     1460 non-null   object \n",
      " 56  Fireplaces     1460 non-null   int64  \n",
      " 57  FireplaceQu    770 non-null    object \n",
      " 58  GarageType     1379 non-null   object \n",
      " 59  GarageYrBlt    1379 non-null   float64\n",
      " 60  GarageFinish   1379 non-null   object \n",
      " 61  GarageCars     1460 non-null   int64  \n",
      " 62  GarageArea     1460 non-null   int64  \n",
      " 63  GarageQual     1379 non-null   object \n",
      " 64  GarageCond     1379 non-null   object \n",
      " 65  PavedDrive     1460 non-null   object \n",
      " 66  WoodDeckSF     1460 non-null   int64  \n",
      " 67  OpenPorchSF    1460 non-null   int64  \n",
      " 68  EnclosedPorch  1460 non-null   int64  \n",
      " 69  3SsnPorch      1460 non-null   int64  \n",
      " 70  ScreenPorch    1460 non-null   int64  \n",
      " 71  PoolArea       1460 non-null   int64  \n",
      " 72  PoolQC         7 non-null      object \n",
      " 73  Fence          281 non-null    object \n",
      " 74  MiscFeature    54 non-null     object \n",
      " 75  MiscVal        1460 non-null   int64  \n",
      " 76  MoSold         1460 non-null   int64  \n",
      " 77  YrSold         1460 non-null   int64  \n",
      " 78  SaleType       1460 non-null   object \n",
      " 79  SaleCondition  1460 non-null   object \n",
      " 80  SalePrice      1460 non-null   int64  \n",
      "dtypes: float64(3), int64(35), object(43)\n",
      "memory usage: 924.0+ KB\n"
     ]
    }
   ],
   "source": [
    "df.info()"
   ]
  },
  {
   "cell_type": "code",
   "execution_count": null,
   "metadata": {},
   "outputs": [
    {
     "data": {
      "text/plain": [
       "140000    20\n",
       "135000    17\n",
       "145000    14\n",
       "155000    14\n",
       "190000    13\n",
       "          ..\n",
       "84900      1\n",
       "424870     1\n",
       "415298     1\n",
       "62383      1\n",
       "34900      1\n",
       "Name: SalePrice, Length: 663, dtype: int64"
      ]
     },
     "execution_count": 6,
     "metadata": {},
     "output_type": "execute_result"
    }
   ],
   "source": [
    "df.SalePrice.value_counts()"
   ]
  },
  {
   "cell_type": "code",
   "execution_count": null,
   "metadata": {
    "ExecuteTime": {
     "end_time": "2020-10-13T18:26:55.531577Z",
     "start_time": "2020-10-13T18:26:55.265707Z"
    }
   },
   "outputs": [
    {
     "data": {
      "image/png": "[encoded data removed]",
      "text/plain": [
       "<Figure size 432x288 with 1 Axes>"
      ]
     },
     "metadata": {
      "needs_background": "light"
     },
     "output_type": "display_data"
    }
   ],
   "source": [
    "fig, ax = plt.subplots()\n",
    "df.SalePrice.hist(bins=20)\n",
    "ax.set_title(\"Distribution of the target attribute - SalePrice\")\n",
    "plt.show()"
   ]
  },
  {
   "cell_type": "markdown",
   "metadata": {},
   "source": [
    "### První pokus o použití DecisionTreeRegressor\n",
    "\n",
    "U Titanic datasetu jsme používali `DecisionTreeClassifier`, pro regresi využijeme jeho variantu `DecisionTreeRegressor`."
   ]
  },
  {
   "cell_type": "raw",
   "metadata": {
    "ExecuteTime": {
     "end_time": "2020-10-06T09:49:22.313486Z",
     "start_time": "2020-10-06T09:49:22.274686Z"
    }
   },
   "source": [
    "from sklearn.tree import DecisionTreeRegressor\n",
    "\n",
    "dt = DecisionTreeRegressor(max_depth=3)\n",
    "dt.fit(X=df.drop(columns=[\"SalePrice\"]), y=df.SalePrice)"
   ]
  },
  {
   "cell_type": "markdown",
   "metadata": {},
   "source": [
    "Tento kód selže hned na různých chybách pro různé typy sloupců:\n",
    "```\n",
    "[object] - Could not convert string to float\n",
    "[float64] - Input contains NaN, infinity or a value too large for dtype('float32')\n",
    "```\n",
    "\n",
    "#### Jak tento problém opravit?\n",
    "**Řešení 1**: Převedeme textové příznaky (`dtype = object`) na příznaky číselné.\n",
    "- Zkusme nejprve nastavit jejich typ na *kategoriální* (`dtype = category`). Pandas si pak tyto příznaky interně ukládá jako číselné.\n",
    "- Jako kategoriální lze chápat pouze příznaky *s ne moc různými hodnotami* (např. jméno není vhodné).\n",
    "- V našem případě lze brát jako kategoriální všechny textové příznaky.\n",
    "\n",
    "```python\n",
    "# Zkonvertujeme sloupce typu object na typ category\n",
    "for col in df.select_dtypes('object').columns:\n",
    "    df[col] = df[col].astype('category')\n",
    "```\n",
    "\n",
    "Můžeme vyzkoušet zda se nám nyní podaří model natrénovat, s tímto řešením bohužel nepochodíme 😭. Proč? Implementace rozhodovacích stromů v `scikit-learn` nepodporuje `dtype = category`.\n",
    "\n",
    "**Řešení 2**: Kategoriální proměnné nahradíme čísly. Jak?\n",
    "- Pro řazené kategoriální příznaky (tzv. **ordinální**) je tento přístup v pořádku.\n",
    "- Pro ty neřazené (**nominální**) je tento přístup poněkud nešťastný (čísla seřazená vždycky jsou).\n",
    "- Nominální příznaky tak můžeme nahradit tzv. **dummy** přínzaky pomocí **one-hot encoding**.\n",
    "    \n",
    "Rozhodnutí, který příznak je nominální a který ordinální, lze stěží automatizovat a je nutné postupovat ručně. Dobrým kandidátem pro ordinální příznak je *KitchenQual*. "
   ]
  },
  {
   "cell_type": "code",
   "execution_count": null,
   "metadata": {
    "ExecuteTime": {
     "end_time": "2020-10-13T18:26:55.538895Z",
     "start_time": "2020-10-13T18:26:55.533825Z"
    }
   },
   "outputs": [
    {
     "data": {
      "text/plain": [
       "array(['Gd', 'TA', 'Ex', 'Fa'], dtype=object)"
      ]
     },
     "metadata": {},
     "output_type": "display_data"
    }
   ],
   "source": [
    "display(df.KitchenQual.unique())"
   ]
  },
  {
   "cell_type": "markdown",
   "metadata": {},
   "source": [
    "Dle popisu v souboru `data_description.txt`: Ex = Excellent, Gd = Good, TA = Typical/Average, Fa = Fair, Po = Poor. Takže bychom chtěli tyto textové hodnoty nahradit čísly tak, aby se zachovalo pořadí Po < Fa < TA < Gd < Ex."
   ]
  },
  {
   "cell_type": "code",
   "execution_count": null,
   "metadata": {
    "ExecuteTime": {
     "end_time": "2020-10-13T18:26:55.555848Z",
     "start_time": "2020-10-13T18:26:55.541900Z"
    }
   },
   "outputs": [
    {
     "name": "stdout",
     "output_type": "stream",
     "text": [
      "Příznak KitchenQual před přemapováním:\n"
     ]
    },
    {
     "data": {
      "text/plain": [
       "892     TA\n",
       "1105    Gd\n",
       "413     TA\n",
       "522     TA\n",
       "1036    Ex\n",
       "Name: KitchenQual, dtype: object"
      ]
     },
     "metadata": {},
     "output_type": "display_data"
    },
    {
     "name": "stdout",
     "output_type": "stream",
     "text": [
      "Příznak KitchenQual po přemapování:\n"
     ]
    },
    {
     "data": {
      "text/plain": [
       "892     2\n",
       "1105    3\n",
       "413     2\n",
       "522     2\n",
       "1036    4\n",
       "Name: KitchenQual, dtype: int64"
      ]
     },
     "metadata": {},
     "output_type": "display_data"
    }
   ],
   "source": [
    "print(\"Příznak KitchenQual před přemapováním:\")\n",
    "display(df.KitchenQual.sample(5, random_state=random_seed))\n",
    "\n",
    "kitchen_quality_map = {\n",
    "    'Po' : 0,\n",
    "    'Fa' : 1,\n",
    "    'TA' : 2,\n",
    "    'Gd' : 3,\n",
    "    'Ex' : 4\n",
    "}\n",
    "df.KitchenQual = df.KitchenQual.replace(kitchen_quality_map)\n",
    "\n",
    "print(\"Příznak KitchenQual po přemapování:\")\n",
    "display(df.KitchenQual.sample(5, random_state=random_seed))"
   ]
  },
  {
   "cell_type": "markdown",
   "metadata": {},
   "source": [
    "Vytvoříme funkci která která převede **ordinální** sloupce na **numerické** hodnoty a **nominální** na **one-hot encoding**"
   ]
  },
  {
   "cell_type": "code",
   "execution_count": null,
   "metadata": {
    "ExecuteTime": {
     "end_time": "2020-10-13T18:26:55.730131Z",
     "start_time": "2020-10-13T18:26:55.724056Z"
    }
   },
   "outputs": [],
   "source": [
    "from sklearn.preprocessing import LabelEncoder\n",
    "\n",
    "def encode_categories(df, mappers, dummies=False):\n",
    "    label_encoder = LabelEncoder()\n",
    "    for col in df.select_dtypes('object').columns:\n",
    "        if col not in mappers and df[col].nunique() < 30:\n",
    "            df[col] = df[col].fillna('NaN')\n",
    "            df[col] = label_encoder.fit_transform(df[col])\n",
    "            if dummies:\n",
    "                df = pd.concat([\n",
    "                    df.drop(columns=[col]), pd.get_dummies(df[col], prefix=('d_' + col))\n",
    "                ], axis=1)\n",
    "        elif col in mappers:\n",
    "            df[col] = df[col].replace(mappers[col])\n",
    "    return df        "
   ]
  },
  {
   "cell_type": "code",
   "execution_count": null,
   "metadata": {
    "ExecuteTime": {
     "end_time": "2020-10-13T18:26:56.007768Z",
     "start_time": "2020-10-13T18:26:55.916328Z"
    }
   },
   "outputs": [],
   "source": [
    "data = pd.read_csv('house-prices-train.csv')\n",
    "\n",
    "# Dictionary s mappingem ordinálních sloupců na číselné atributy\n",
    "ordinal_cols_mappers = {\n",
    "    'KitchenQual': {\n",
    "        'Po' : 0, \n",
    "        'Fa' : 1, \n",
    "        'TA' : 2, \n",
    "        'Gd' : 3, \n",
    "        'Ex' : 4,\n",
    "    }\n",
    "}\n",
    "\n",
    "data = encode_categories(data, ordinal_cols_mappers)\n",
    "data = data.fillna('-1')"
   ]
  },
  {
   "cell_type": "markdown",
   "metadata": {},
   "source": [
    "Zkusme to s DecisionTreeRegressor znovu."
   ]
  },
  {
   "cell_type": "code",
   "execution_count": null,
   "metadata": {},
   "outputs": [
    {
     "name": "stdout",
     "output_type": "stream",
     "text": [
      "<class 'pandas.core.frame.DataFrame'>\n",
      "RangeIndex: 1460 entries, 0 to 1459\n",
      "Data columns (total 81 columns):\n",
      " #   Column         Non-Null Count  Dtype \n",
      "---  ------         --------------  ----- \n",
      " 0   Id             1460 non-null   int64 \n",
      " 1   MSSubClass     1460 non-null   int64 \n",
      " 2   MSZoning       1460 non-null   int64 \n",
      " 3   LotFrontage    1460 non-null   object\n",
      " 4   LotArea        1460 non-null   int64 \n",
      " 5   Street         1460 non-null   int64 \n",
      " 6   Alley          1460 non-null   int64 \n",
      " 7   LotShape       1460 non-null   int64 \n",
      " 8   LandContour    1460 non-null   int64 \n",
      " 9   Utilities      1460 non-null   int64 \n",
      " 10  LotConfig      1460 non-null   int64 \n",
      " 11  LandSlope      1460 non-null   int64 \n",
      " 12  Neighborhood   1460 non-null   int64 \n",
      " 13  Condition1     1460 non-null   int64 \n",
      " 14  Condition2     1460 non-null   int64 \n",
      " 15  BldgType       1460 non-null   int64 \n",
      " 16  HouseStyle     1460 non-null   int64 \n",
      " 17  OverallQual    1460 non-null   int64 \n",
      " 18  OverallCond    1460 non-null   int64 \n",
      " 19  YearBuilt      1460 non-null   int64 \n",
      " 20  YearRemodAdd   1460 non-null   int64 \n",
      " 21  RoofStyle      1460 non-null   int64 \n",
      " 22  RoofMatl       1460 non-null   int64 \n",
      " 23  Exterior1st    1460 non-null   int64 \n",
      " 24  Exterior2nd    1460 non-null   int64 \n",
      " 25  MasVnrType     1460 non-null   int64 \n",
      " 26  MasVnrArea     1460 non-null   object\n",
      " 27  ExterQual      1460 non-null   int64 \n",
      " 28  ExterCond      1460 non-null   int64 \n",
      " 29  Foundation     1460 non-null   int64 \n",
      " 30  BsmtQual       1460 non-null   int64 \n",
      " 31  BsmtCond       1460 non-null   int64 \n",
      " 32  BsmtExposure   1460 non-null   int64 \n",
      " 33  BsmtFinType1   1460 non-null   int64 \n",
      " 34  BsmtFinSF1     1460 non-null   int64 \n",
      " 35  BsmtFinType2   1460 non-null   int64 \n",
      " 36  BsmtFinSF2     1460 non-null   int64 \n",
      " 37  BsmtUnfSF      1460 non-null   int64 \n",
      " 38  TotalBsmtSF    1460 non-null   int64 \n",
      " 39  Heating        1460 non-null   int64 \n",
      " 40  HeatingQC      1460 non-null   int64 \n",
      " 41  CentralAir     1460 non-null   int64 \n",
      " 42  Electrical     1460 non-null   int64 \n",
      " 43  1stFlrSF       1460 non-null   int64 \n",
      " 44  2ndFlrSF       1460 non-null   int64 \n",
      " 45  LowQualFinSF   1460 non-null   int64 \n",
      " 46  GrLivArea      1460 non-null   int64 \n",
      " 47  BsmtFullBath   1460 non-null   int64 \n",
      " 48  BsmtHalfBath   1460 non-null   int64 \n",
      " 49  FullBath       1460 non-null   int64 \n",
      " 50  HalfBath       1460 non-null   int64 \n",
      " 51  BedroomAbvGr   1460 non-null   int64 \n",
      " 52  KitchenAbvGr   1460 non-null   int64 \n",
      " 53  KitchenQual    1460 non-null   int64 \n",
      " 54  TotRmsAbvGrd   1460 non-null   int64 \n",
      " 55  Functional     1460 non-null   int64 \n",
      " 56  Fireplaces     1460 non-null   int64 \n",
      " 57  FireplaceQu    1460 non-null   int64 \n",
      " 58  GarageType     1460 non-null   int64 \n",
      " 59  GarageYrBlt    1460 non-null   object\n",
      " 60  GarageFinish   1460 non-null   int64 \n",
      " 61  GarageCars     1460 non-null   int64 \n",
      " 62  GarageArea     1460 non-null   int64 \n",
      " 63  GarageQual     1460 non-null   int64 \n",
      " 64  GarageCond     1460 non-null   int64 \n",
      " 65  PavedDrive     1460 non-null   int64 \n",
      " 66  WoodDeckSF     1460 non-null   int64 \n",
      " 67  OpenPorchSF    1460 non-null   int64 \n",
      " 68  EnclosedPorch  1460 non-null   int64 \n",
      " 69  3SsnPorch      1460 non-null   int64 \n",
      " 70  ScreenPorch    1460 non-null   int64 \n",
      " 71  PoolArea       1460 non-null   int64 \n",
      " 72  PoolQC         1460 non-null   int64 \n",
      " 73  Fence          1460 non-null   int64 \n",
      " 74  MiscFeature    1460 non-null   int64 \n",
      " 75  MiscVal        1460 non-null   int64 \n",
      " 76  MoSold         1460 non-null   int64 \n",
      " 77  YrSold         1460 non-null   int64 \n",
      " 78  SaleType       1460 non-null   int64 \n",
      " 79  SaleCondition  1460 non-null   int64 \n",
      " 80  SalePrice      1460 non-null   int64 \n",
      "dtypes: int64(78), object(3)\n",
      "memory usage: 924.0+ KB\n"
     ]
    }
   ],
   "source": [
    "data.info()"
   ]
  },
  {
   "cell_type": "code",
   "execution_count": null,
   "metadata": {
    "ExecuteTime": {
     "end_time": "2020-10-13T18:26:56.375802Z",
     "start_time": "2020-10-13T18:26:56.351176Z"
    }
   },
   "outputs": [
    {
     "name": "stdout",
     "output_type": "stream",
     "text": [
      "Yahoooooo, the model had finished training, it 'works'!!! 🚀\n"
     ]
    }
   ],
   "source": [
    "dt = DecisionTreeRegressor(max_depth=3)\n",
    "dt.fit(data.drop(columns=['SalePrice']), data.SalePrice)\n",
    "print(\"Yahoooooo, the model had finished training, it 'works'!!! 🚀\")"
   ]
  },
  {
   "cell_type": "markdown",
   "metadata": {},
   "source": [
    "## Rozdělení dat\n",
    "\n",
    "Adresář obsahuje CSV soubory `house-prices-train.csv` a `house-prices-test.csv`. `house-prices-test.csv` použijeme později. Pro naše účely použijeme `house-prices-train.csv` a rozdělíme ho na **trénovací**, **validační** a **testovací** množinu.\n",
    "\n",
    "- **Trénovací dataset**: Trénovací dataset rozdělíme na trénovací a validační část.\n",
    "    - **Trénovací množinu** uvidí model při trénování. \n",
    "    - **Validační množinu** používáme pro vyhodnocení performance modelu na datech, která přímo neviděl. \n",
    "\n",
    "Na základě validačních výsledků upravujeme hyperparametry modelu. Validační chyba je tedy zaujatá (až moc optimistická, vždyť jsme podle její hodnoty vybírali hyperparametry modelu!). Před odevzdáním finálního modelu do produkce obvykle chceme modelu dát co-nejvyšší množství informací. Na poslední natrénování před testovací evaluací se obecně trénovací a validační množina sloučí, aby měl model nejvyšší možné množství dat.\n",
    "\n",
    "- **Testovací dataset**: slouží pouze k evaluaci finálního (tedy již vybraného a natrénovaného modelu). \n",
    "\n",
    "Typicky ho má u sebe klient aby si ověřil, jak dobře dodané řešení funguje na datech, která váš model (ani váš data-science tým 👨‍🔬) neměl možnost při trénování vidět.\n",
    "\n",
    "![img/traintest.png](img/traintest.png)"
   ]
  },
  {
   "cell_type": "code",
   "execution_count": null,
   "metadata": {
    "ExecuteTime": {
     "end_time": "2020-10-13T18:26:56.813272Z",
     "start_time": "2020-10-13T18:26:56.803492Z"
    }
   },
   "outputs": [],
   "source": [
    "from sklearn.model_selection import train_test_split\n",
    "\n",
    "# Split the training dataset into 60% train\n",
    "Xtrain, Xrest, ytrain, yrest = train_test_split(\n",
    "    # Training columns except target, target values , magic constant, keep our output consitent\n",
    "    data.drop(columns=['SalePrice']), data.SalePrice, test_size=0.4, random_state=random_seed\n",
    ")\n",
    "\n",
    "# Split the rest of the data into 0.6*0.4=24% validation, 0.4*0.4=16% test\n",
    "Xtest, Xval, ytest, yval = train_test_split(\n",
    "    Xrest, yrest, test_size=0.6, random_state=random_seed\n",
    ")"
   ]
  },
  {
   "cell_type": "markdown",
   "metadata": {},
   "source": [
    "# Rozhodovací stromy pro regresi\n",
    "U Titanicu jsme si ukázali, že lze rozhodovací stromy použít pro klasifikaci. Nyní si ukážeme, že je lze využít i pro regresi!\n",
    "\n",
    "### Metrika\n",
    "V případě klasifikace jsme používali accuracy (kolik dat model predikoval správně). Nyní ovšem predikujeme spojitou proměnnou. Jak říct o výsledku, že je správně? Budeme měřit, jak daleko od kýženého výsledku se model strefil! Často používané metriky pro měření kvality regresního modelu jsou:\n",
    "\n",
    "Název | Vzorec\n",
    "----- | -------\n",
    "MSE   | $$\\frac{1}{n}\\sum_{i=1}^{n}(Y_{i} - \\hat{Y}_{i})^2$$\n",
    "MAE   | $$\\frac{1}{n}\\sum_{i=1}^{n}|Y_{i} - \\hat{Y}_{i}|$$\n",
    "RMSLE | $$\\sqrt{\\frac{1}{n}\\sum_{i=1}^{n}(log(Y_{i} + 1) - log(\\hat{Y}_{i} + 1))^2}$$\n",
    "\n",
    "Výběr správné metriky je extrémně podstatný a často velice náročný úkol který musí data scientist umět vyřešit. Často bohužel naše metrika neodpovídá přesně tomu, čeho chceme dosáhnout. Jednotlivé metriky se liší v mnoha směrech:\n",
    "- jak je můžeme interpretovat (co vyjadřují)\n",
    "- jak snadno je (ne)lze zderivovat\n",
    "- jak se chovají pro různá data (outliers)\n",
    "\n",
    "Například pro zmíněné metriky\n",
    "- MSE je citlivé na outliers (penalizuje je hodně)\n",
    "- MAE se dá snadno interpretovat, méně citlivé na outliers\n",
    "- RMSLE je sensitivní na malé deviace hodnot"
   ]
  },
  {
   "cell_type": "code",
   "execution_count": null,
   "metadata": {
    "ExecuteTime": {
     "end_time": "2020-10-13T18:26:57.672027Z",
     "start_time": "2020-10-13T18:26:57.668241Z"
    }
   },
   "outputs": [],
   "source": [
    "def rmsle(y_true: pd.Series, y_hat: pd.Series) -> float:\n",
    "    return math.sqrt(\n",
    "        metrics.mean_squared_error(\n",
    "            np.log1p(y_true), np.log1p(y_hat)\n",
    "        )\n",
    "    )"
   ]
  },
  {
   "cell_type": "code",
   "execution_count": null,
   "metadata": {
    "ExecuteTime": {
     "end_time": "2020-10-13T18:26:58.033062Z",
     "start_time": "2020-10-13T18:26:57.878171Z"
    }
   },
   "outputs": [],
   "source": [
    "param_grid = {\n",
    "    'max_depth': range(1,15)\n",
    "}\n",
    "\n",
    "param_comb = ParameterGrid(param_grid)\n",
    "\n",
    "val_metric = []\n",
    "for params in param_comb:\n",
    "    dt = DecisionTreeRegressor(**params).fit(Xtrain, ytrain)\n",
    "    val_metric.append(rmsle(yval, dt.predict(Xval)))"
   ]
  },
  {
   "cell_type": "code",
   "execution_count": null,
   "metadata": {
    "ExecuteTime": {
     "end_time": "2020-10-13T18:26:58.077985Z",
     "start_time": "2020-10-13T18:26:58.058832Z"
    }
   },
   "outputs": [
    {
     "name": "stdout",
     "output_type": "stream",
     "text": [
      "We found the best params {'max_depth': 9} with validation RMSLE 0.1922.\n"
     ]
    }
   ],
   "source": [
    "# Vybereme nejlepší parametry\n",
    "best_params = param_comb[np.argmin(val_metric)]\n",
    "print(f\"We found the best params {best_params} with validation RMSLE {min(val_metric):.4f}.\")\n",
    "\n",
    "# Natrénujeme na nich DecisionTreeRegressor\n",
    "dt = DecisionTreeRegressor(**best_params).fit(Xtrain, ytrain)"
   ]
  },
  {
   "cell_type": "code",
   "execution_count": null,
   "metadata": {
    "ExecuteTime": {
     "end_time": "2020-10-13T18:26:58.274402Z",
     "start_time": "2020-10-13T18:26:58.259285Z"
    }
   },
   "outputs": [
    {
     "name": "stdout",
     "output_type": "stream",
     "text": [
      "RMSLE (train): \t0.0730\n",
      "RMSLE (valid): \t0.2059\n"
     ]
    }
   ],
   "source": [
    "train_rmsle_tree = rmsle(ytrain, dt.predict(Xtrain))\n",
    "valid_rmsle_tree = rmsle(yval, dt.predict(Xval))\n",
    "print(f\"RMSLE (train): \\t{train_rmsle_tree:.4f}\")\n",
    "print(f\"RMSLE (valid): \\t{valid_rmsle_tree:.4f}\")"
   ]
  },
  {
   "cell_type": "markdown",
   "metadata": {},
   "source": [
    "```python\n",
    "# Na toto se dívat nesmíme a nebudeme podvádět! \n",
    "# Na trénovacích datech ještě chceme trénovat další modely!\n",
    "test_rmsle_tree = rmsle(ytest, dt.predict(Xtest))\n",
    "print(f\"RMSLE (test): \\t{test_rmsle_tree:.4f}\")\n",
    "```"
   ]
  },
  {
   "cell_type": "markdown",
   "metadata": {},
   "source": [
    "# Náhodný les `RandomForestRegressor`\n",
    "Jak bylo řečeno v přednášce, random forest je postaven na bagging metodě:\n",
    "- Trénuje se na bootstapu dat: vytvoříme **n** množin a do nich vybereme data výběrem s opakovnáním\n",
    "- Každá množina se použije k natrénování jednoho stromu (vznikne jich tedy n)\n",
    "- Výstupy ze jednotlivých stromečků jsou agregovány do finálního výstupu \n",
    "  \n",
    "![img/bagging.png](img/bagging.png)\n",
    "\n",
    "Použití lesa místo stromu je `sklearn` velice jednoduché:\n",
    "- stačí nahradit `DecisionTreeRegressor` v kódu výše  třídou `RandomForestRegressor`.\n",
    "- má skoro stejné parametry jako `DecisionTreeRegressor`. Například\n",
    "    * `max_depth`, který určuje maximální hloubku jednoho stromu.\n",
    "    * `max_features`, který určuje počet příznaků, ze kterých si hladový algoritmus vybírá ten, podle kterého bude v aktuálním kroku data \"větvit\".\n",
    "\n",
    "Má ale také jeden nový (`n_estimators`), který je zásadní a určuje počet stromů v lese."
   ]
  },
  {
   "cell_type": "code",
   "execution_count": null,
   "metadata": {
    "ExecuteTime": {
     "end_time": "2020-10-13T18:27:13.649237Z",
     "start_time": "2020-10-13T18:26:59.644215Z"
    }
   },
   "outputs": [],
   "source": [
    "from sklearn.ensemble import RandomForestRegressor\n",
    "\n",
    "\n",
    "param_grid = {\n",
    "    'n_estimators': range(1, 100, 5),\n",
    "    'max_depth': range(1, 5)\n",
    "}\n",
    "\n",
    "param_comb = ParameterGrid(param_grid)\n",
    "\n",
    "val_metric = []\n",
    "for params in param_comb:\n",
    "    dt = RandomForestRegressor(**params).fit(Xtrain, ytrain)\n",
    "    val_metric.append(rmsle(yval, dt.predict(Xval)))"
   ]
  },
  {
   "cell_type": "code",
   "execution_count": null,
   "metadata": {
    "ExecuteTime": {
     "end_time": "2020-10-13T18:27:13.696848Z",
     "start_time": "2020-10-13T18:27:13.651931Z"
    }
   },
   "outputs": [
    {
     "name": "stdout",
     "output_type": "stream",
     "text": [
      "We found the best params {'n_estimators': 96, 'max_depth': 4} with validation RMSLE 0.1734.\n"
     ]
    }
   ],
   "source": [
    "best_params = param_comb[np.argmin(val_metric)]\n",
    "print(f\"We found the best params {best_params} with validation RMSLE {min(val_metric):.4f}.\")\n",
    "\n",
    "forest_model = RandomForestRegressor(**best_params).fit(Xtrain, ytrain)"
   ]
  },
  {
   "cell_type": "code",
   "execution_count": null,
   "metadata": {
    "ExecuteTime": {
     "end_time": "2020-10-13T18:27:13.718532Z",
     "start_time": "2020-10-13T18:27:13.699757Z"
    }
   },
   "outputs": [
    {
     "name": "stdout",
     "output_type": "stream",
     "text": [
      "RMSLE (train): \t0.1618\n",
      "RMSLE (valid): \t0.1766\n"
     ]
    }
   ],
   "source": [
    "train_rmsle_forest = rmsle(ytrain, forest_model.predict(Xtrain))\n",
    "valid_rmsle_forest = rmsle(yval, forest_model.predict(Xval))\n",
    "print(f\"RMSLE (train): \\t{train_rmsle_forest:.4f}\")\n",
    "print(f\"RMSLE (valid): \\t{valid_rmsle_forest:.4f}\")"
   ]
  },
  {
   "cell_type": "markdown",
   "metadata": {},
   "source": [
    "# Úkol: Vyzkoušejte RandomForest pro klasifikaci na Titanic datasetu!\n",
    "\n",
    "Titanic dataset již nyní důvěrně znáte, proto vám nebude činit potíže zkusit překonat performance rozhodovacího stromu z předchozího cvičení 😎."
   ]
  },
  {
   "cell_type": "code",
   "execution_count": null,
   "metadata": {
    "ExecuteTime": {
     "end_time": "2020-10-13T18:27:13.730419Z",
     "start_time": "2020-10-13T18:27:13.721237Z"
    }
   },
   "outputs": [],
   "source": [
    "titanic = pd.read_csv('titanic.csv')\n",
    "\n",
    "# Tyto sloupce nebudeme nyní využívat (ale užitečné by být mohly!)\n",
    "titanic = titanic.drop(columns=[\"Name\", \"Ticket\", \"Cabin\"])"
   ]
  },
  {
   "cell_type": "markdown",
   "metadata": {},
   "source": [
    "Data musíme předzpracovat (bohužel obsahují chybějící hodnoty a nečíselné atributy). Přidáme pár tipů:\n",
    "- Preprocessing sloupců Sex a Embarked na one-hot encoding \n",
    "    - `pd.get_dummies(titanic, ...)`\n",
    "- Chybějící hodnoty ve věku nahradíme např. mediánem \n",
    "    - to zdaleka není nejlepší způsob, ale jako baseline bude stačit\n",
    "    \n",
    "Nezapomeňte že accuracy chceme maximalizovat! (na rozdíl od RMSLE)"
   ]
  },
  {
   "cell_type": "code",
   "execution_count": null,
   "metadata": {},
   "outputs": [
    {
     "name": "stdout",
     "output_type": "stream",
     "text": [
      "<class 'pandas.core.frame.DataFrame'>\n",
      "RangeIndex: 891 entries, 0 to 890\n",
      "Data columns (total 8 columns):\n",
      " #   Column    Non-Null Count  Dtype  \n",
      "---  ------    --------------  -----  \n",
      " 0   Survived  891 non-null    int64  \n",
      " 1   Pclass    891 non-null    int64  \n",
      " 2   Sex       891 non-null    object \n",
      " 3   Age       714 non-null    float64\n",
      " 4   SibSp     891 non-null    int64  \n",
      " 5   Parch     891 non-null    int64  \n",
      " 6   Fare      891 non-null    float64\n",
      " 7   Embarked  889 non-null    object \n",
      "dtypes: float64(2), int64(4), object(2)\n",
      "memory usage: 55.8+ KB\n"
     ]
    }
   ],
   "source": [
    "titanic.info()"
   ]
  },
  {
   "cell_type": "code",
   "execution_count": null,
   "metadata": {
    "ExecuteTime": {
     "end_time": "2020-10-13T18:27:13.735367Z",
     "start_time": "2020-10-13T18:27:13.732636Z"
    }
   },
   "outputs": [],
   "source": [
    "# Place your preprocessing code here :)\n",
    "titanic = pd.get_dummies(titanic)  # Encode string columns using one-hot encoding"
   ]
  },
  {
   "cell_type": "code",
   "execution_count": null,
   "metadata": {},
   "outputs": [
    {
     "data": {
      "text/plain": [
       "Survived        0\n",
       "Pclass          0\n",
       "Age           177\n",
       "SibSp           0\n",
       "Parch           0\n",
       "Fare            0\n",
       "Sex_female      0\n",
       "Sex_male        0\n",
       "Embarked_C      0\n",
       "Embarked_Q      0\n",
       "Embarked_S      0\n",
       "dtype: int64"
      ]
     },
     "execution_count": 25,
     "metadata": {},
     "output_type": "execute_result"
    }
   ],
   "source": [
    "titanic.isnull().sum()"
   ]
  },
  {
   "cell_type": "code",
   "execution_count": null,
   "metadata": {
    "ExecuteTime": {
     "end_time": "2020-10-13T18:27:13.744067Z",
     "start_time": "2020-10-13T18:27:13.737279Z"
    }
   },
   "outputs": [],
   "source": [
    "# Train/Validation split\n",
    "X, X_val, y, y_val = train_test_split(\n",
    "    titanic.drop(columns=['Survived']), titanic.Survived, test_size=0.25, random_state=random_seed\n",
    ")"
   ]
  },
  {
   "cell_type": "code",
   "execution_count": null,
   "metadata": {},
   "outputs": [],
   "source": [
    "# Use age median value to fill in missing values of age\n",
    "age_median = X.Age.median()\n",
    "\n",
    "X.loc[X.Age.isnull(), 'Age'] = age_median\n",
    "X_val.loc[X_val.Age.isnull(), 'Age'] = age_median"
   ]
  },
  {
   "cell_type": "markdown",
   "metadata": {},
   "source": [
    "Zkusíme nejdřív použít jednoduchý decision tree. Jakou validační accuracy se vám podařilo dosáhnout?"
   ]
  },
  {
   "cell_type": "code",
   "execution_count": null,
   "metadata": {},
   "outputs": [],
   "source": [
    "from sklearn.tree import DecisionTreeClassifier\n",
    "from sklearn.metrics import accuracy_score\n",
    "\n",
    "# Place your model training code here :)\n",
    "\n",
    "param_grid = {\n",
    "    'max_depth': range(1, 50)\n",
    "}\n",
    "\n",
    "param_comb = ParameterGrid(param_grid)\n",
    "\n",
    "val_metric = []\n",
    "for params in param_comb:\n",
    "    dt = DecisionTreeClassifier(**params).fit(X, y)\n",
    "    val_metric.append(accuracy_score(y_val, dt.predict(X_val)))"
   ]
  },
  {
   "cell_type": "code",
   "execution_count": null,
   "metadata": {},
   "outputs": [
    {
     "name": "stdout",
     "output_type": "stream",
     "text": [
      "Best validation accuracy is 0.8026905829596412% with parameters {'max_depth': 4}\n"
     ]
    }
   ],
   "source": [
    "best_res = np.max(val_metric)\n",
    "best_params = param_comb[np.argmax(val_metric)]\n",
    "\n",
    "print(\"Best validation accuracy is {}% with parameters {}\".format(best_res, best_params))"
   ]
  },
  {
   "cell_type": "markdown",
   "metadata": {},
   "source": [
    "Změňte hodnotu proměnné random_seed (klidně opakovaně) a znovu vyhodnoťte buňky obsahující dělení dat a trénink decision tree. Podařilo se vám překonat původní validační accuracy?"
   ]
  },
  {
   "cell_type": "code",
   "execution_count": null,
   "metadata": {},
   "outputs": [],
   "source": [
    "random_seed = 11"
   ]
  },
  {
   "cell_type": "code",
   "execution_count": null,
   "metadata": {
    "ExecuteTime": {
     "end_time": "2020-10-13T18:27:13.750920Z",
     "start_time": "2020-10-13T18:27:13.746611Z"
    }
   },
   "outputs": [],
   "source": [
    "from sklearn.ensemble import RandomForestClassifier\n",
    "\n",
    "# Place your model training code here :)\n",
    "param_grid = {\n",
    "    'max_depth': range(1, 5),\n",
    "    'n_estimators': range(1, 100, 10)\n",
    "}\n",
    "\n",
    "param_comb = ParameterGrid(param_grid)\n",
    "\n",
    "val_metric_rf = []\n",
    "for params in param_comb:\n",
    "    dt = RandomForestClassifier(**params).fit(X, y)\n",
    "    val_metric_rf.append(accuracy_score(y_val, dt.predict(X_val)))"
   ]
  },
  {
   "cell_type": "code",
   "execution_count": null,
   "metadata": {},
   "outputs": [
    {
     "name": "stdout",
     "output_type": "stream",
     "text": [
      "Best validation accuracy is 0.820627802690583% with parameters {'n_estimators': 31, 'max_depth': 4}\n"
     ]
    }
   ],
   "source": [
    "best_res_rf = np.max(val_metric_rf)\n",
    "best_params_rf = param_comb[np.argmax(val_metric_rf)]\n",
    "\n",
    "print(\"Best validation accuracy is {}% with parameters {}\".format(best_res_rf, best_params_rf))"
   ]
  },
  {
   "cell_type": "code",
   "execution_count": null,
   "metadata": {},
   "outputs": [
    {
     "data": {
      "image/png": "[encoded data removed]",
      "text/plain": [
       "<Figure size 1080x720 with 1 Axes>"
      ]
     },
     "metadata": {
      "needs_background": "light"
     },
     "output_type": "display_data"
    }
   ],
   "source": [
    "# Plot results in a simple scatter plot for comparison\n",
    "plt.figure(figsize=(15,10))\n",
    "\n",
    "plt.scatter([\"Decision tree\", \"Random forest\"], [best_res * 100, best_res_rf* 100])\n",
    "plt.ylabel(\"Accuracy [%]\")\n",
    "plt.xlabel(\"Model\")\n",
    "plt.title(\"Validation accuracy of models\", fontsize=18)\n",
    "plt.show()"
   ]
  },
  {
   "cell_type": "markdown",
   "metadata": {},
   "source": [
    "# Boosting - AdaBoost\n",
    "Narozdíl od **random forest** používá **AdaBoost** metody boostingu:\n",
    "- Na datech natrénujeme první strom (stromy se úmyslně volí s malou hloubkou)\n",
    "- Data ohodnotíme podle \"kvality\" jejich predikce tímto stromem a přidáme jim váhu (ty co nebyly ohodnoceny dobře mají výšší váhu a opačně)\n",
    "- Na základě těchto dat natrénujeme další strom, kterým se budeme snažit správně ohodnotit data s vyšší váhou\n",
    "- Při predikci necháme všechny weak learners predikovat cílovou hodnotu kterou převážíme accuracy jednotlivých stromů a výsledek zagregujeme\n",
    "    \n",
    "![img/boosting.png](img/boosting.png)\n",
    "\n",
    "Použití lesa místo stromu je `sklearn` velice jednoduché\n",
    "- stačí nahradit `RandomForestRegressor` v kódu výše třídou `AdaBoostRegressor`\n",
    "\n",
    "AdaBoostRegressor má dva hlavní volitelné parametry:\n",
    "- `base_estimator`, který volí co bude použito za estimátor na data, v našem případě tedy **rozhodovací strom**\n",
    "    - výchozí hodnota je **rozhodovací strom** hloubky 1 (lze využít i jiné modely)\n",
    "- `n_estimators`, který říká kolik estimátorů (v našem případě **rozhodovacím stromů**) bude vytvořeno\n",
    "    - výchozí hodnota je 50"
   ]
  },
  {
   "cell_type": "code",
   "execution_count": 34,
   "metadata": {
    "ExecuteTime": {
     "end_time": "2020-10-13T18:28:14.295720Z",
     "start_time": "2020-10-13T18:27:13.755046Z"
    }
   },
   "outputs": [],
   "source": [
    "from sklearn.ensemble import AdaBoostRegressor\n",
    "\n",
    "param_grid = {\n",
    "    'n_estimators': range(1,100,5),\n",
    "    'learning_rate': [0.01, 0.05, 0.1, 0.3, 0.5, 1]\n",
    "}\n",
    "\n",
    "param_comb = ParameterGrid(param_grid)\n",
    "\n",
    "val_metric = []\n",
    "for params in param_comb:\n",
    "    dt = AdaBoostRegressor(**params).fit(Xtrain, ytrain)\n",
    "    val_metric.append(rmsle(yval, dt.predict(Xval)))"
   ]
  },
  {
   "cell_type": "code",
   "execution_count": 35,
   "metadata": {
    "ExecuteTime": {
     "end_time": "2020-10-13T18:28:14.695295Z",
     "start_time": "2020-10-13T18:28:14.298193Z"
    }
   },
   "outputs": [
    {
     "name": "stdout",
     "output_type": "stream",
     "text": [
      "We found the best params {'n_estimators': 86, 'learning_rate': 1} with validation RMSLE 0.1827.\n"
     ]
    }
   ],
   "source": [
    "best_params = param_comb[np.argmin(val_metric)]\n",
    "print(f\"We found the best params {best_params} with validation RMSLE {min(val_metric):.4f}.\")\n",
    "\n",
    "ada_model = AdaBoostRegressor(**best_params).fit(Xtrain, ytrain)"
   ]
  },
  {
   "cell_type": "code",
   "execution_count": 36,
   "metadata": {
    "ExecuteTime": {
     "end_time": "2020-10-13T18:28:14.852329Z",
     "start_time": "2020-10-13T18:28:14.697031Z"
    }
   },
   "outputs": [
    {
     "name": "stdout",
     "output_type": "stream",
     "text": [
      "RMSLE (train): \t0.1799\n",
      "RMSLE (valid): \t0.1909\n"
     ]
    }
   ],
   "source": [
    "train_rmsle_ada = rmsle(ytrain, ada_model.predict(Xtrain))\n",
    "valid_rmsle_ada = rmsle(yval, ada_model.predict(Xval))\n",
    "print(f\"RMSLE (train): \\t{train_rmsle_ada:.4f}\")\n",
    "print(f\"RMSLE (valid): \\t{valid_rmsle_ada:.4f}\")"
   ]
  },
  {
   "cell_type": "markdown",
   "metadata": {},
   "source": [
    "# Porovnání výsledků\n",
    "Porovnáme výsledky, a vybereme nejlepší model, který poté otestujeme na testovacích datech abychom zjistili jeho skutečnou performance"
   ]
  },
  {
   "cell_type": "code",
   "execution_count": 37,
   "metadata": {
    "ExecuteTime": {
     "end_time": "2020-10-13T18:28:15.041811Z",
     "start_time": "2020-10-13T18:28:14.854526Z"
    }
   },
   "outputs": [
    {
     "data": {
      "image/png": "[encoded data removed]",
      "text/plain": [
       "<Figure size 1080x720 with 1 Axes>"
      ]
     },
     "metadata": {
      "needs_background": "light"
     },
     "output_type": "display_data"
    }
   ],
   "source": [
    "import matplotlib.pyplot as plt\n",
    "\n",
    "results_val = [valid_rmsle_tree, valid_rmsle_forest, valid_rmsle_ada]\n",
    "results_train = [train_rmsle_tree, train_rmsle_forest, train_rmsle_ada]\n",
    "\n",
    "x_points_train = np.arange(len(results_val))\n",
    "x_points_val = np.arange(0.4, len(results_val) + 0.4, 1)\n",
    "x_points_labels = np.arange(0.2, len(results_val) + 0.2, 1)\n",
    "\n",
    "plt.figure(figsize=(15,10))\n",
    "plt.bar(x_points_val, results_val, label='Validační', color='g', width=0.4)\n",
    "plt.bar(x_points_train, results_train, label='Trenovací', color='r', width=0.4)\n",
    "plt.xticks(x_points_labels, [\"Rozhodovací strom\", \"Náhodný les\", \"AdaBoost\"])\n",
    "plt.title(\"Porovnání výsledků modelů (nižší je lepší)\")\n",
    "plt.legend()\n",
    "plt.show()"
   ]
  },
  {
   "cell_type": "markdown",
   "metadata": {},
   "source": [
    "Jako nejlepší model zvolíme náhodný les a změříme jeho performance na testovacích datech. Nyní se již můžeme podívat na testovací chybu 📈."
   ]
  },
  {
   "cell_type": "code",
   "execution_count": 38,
   "metadata": {
    "ExecuteTime": {
     "end_time": "2020-10-13T18:28:15.054673Z",
     "start_time": "2020-10-13T18:28:15.044890Z"
    }
   },
   "outputs": [
    {
     "name": "stdout",
     "output_type": "stream",
     "text": [
      "RMSLE (train): \t0.1618\n",
      "RMSLE (valid): \t0.1766\n",
      "RMSLE (test): \t0.1830\n"
     ]
    }
   ],
   "source": [
    "test_rmsle_forest = rmsle(ytest, forest_model.predict(Xtest))\n",
    "print(f\"RMSLE (train): \\t{train_rmsle_forest:.4f}\")\n",
    "print(f\"RMSLE (valid): \\t{valid_rmsle_forest:.4f}\")\n",
    "print(f\"RMSLE (test): \\t{test_rmsle_forest:.4f}\")"
   ]
  },
  {
   "cell_type": "markdown",
   "metadata": {},
   "source": [
    "# Úkol: Zkuste snížit RMSLE jak to jen jde a nahrát svoje řešení na Kaggle\n",
    "Stránka pro odevzdání: https://www.kaggle.com/c/house-prices-advanced-regression-techniques/submit"
   ]
  },
  {
   "cell_type": "code",
   "execution_count": 39,
   "metadata": {
    "ExecuteTime": {
     "end_time": "2020-10-13T18:28:15.103809Z",
     "start_time": "2020-10-13T18:28:15.057258Z"
    }
   },
   "outputs": [],
   "source": [
    "train = pd.read_csv('house-prices-train.csv')\n",
    "test = pd.read_csv('house-prices-test.csv')"
   ]
  },
  {
   "cell_type": "markdown",
   "metadata": {
    "ExecuteTime": {
     "end_time": "2020-10-08T16:50:57.933417Z",
     "start_time": "2020-10-08T16:50:57.926585Z"
    }
   },
   "source": [
    "Kaggle při odevzdání počítá s CSV souborem, který má 2 sloupce `Id` a `SalePrice`. \n",
    "\n",
    "Příklad souboru který projde odevzdáním:\n",
    "\n",
    "|   Id |   SalePrice |\n",
    "|-----:|------------:|\n",
    "| 1461 |      112317 |\n",
    "| 1462 |      132388 |\n",
    "| 1463 |      156409 |\n",
    "| 1464 |      172197 |\n",
    "| 1465 |      179526 |\n",
    "\n",
    "Při ukládání můžete využít parametr `index=False` pro ignorování indexu.\n",
    "\n",
    "```python\n",
    "df.to_csv('kaggle_submission.csv', index=False)\n",
    "```"
   ]
  },
  {
   "cell_type": "code",
   "execution_count": 40,
   "metadata": {
    "ExecuteTime": {
     "end_time": "2020-10-13T18:28:15.108723Z",
     "start_time": "2020-10-13T18:28:15.106157Z"
    }
   },
   "outputs": [],
   "source": [
    "# Your code goes here :)\n"
   ]
  }
 ],
 "metadata": {
  "interpreter": {
   "hash": "ba2bd6d815540f9b91e8189da9940a156019bd39d92ee0fb3276a7227da23388"
  },
  "kernelspec": {
   "display_name": "Python 3.8.10 64-bit ('.venv': venv)",
   "name": "python3"
  },
  "language_info": {
   "codemirror_mode": {
    "name": "ipython",
    "version": 3
   },
   "file_extension": ".py",
   "mimetype": "text/x-python",
   "name": "python",
   "nbconvert_exporter": "python",
   "pygments_lexer": "ipython3",
   "version": "3.8.10"
  }
 },
 "nbformat": 4,
 "nbformat_minor": 4
}
