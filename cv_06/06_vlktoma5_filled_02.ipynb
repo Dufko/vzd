{
 "cells": [
  {
   "cell_type": "markdown",
   "metadata": {
    "slideshow": {
     "slide_type": "slide"
    }
   },
   "source": [
    "# Naivní Bayesův klasifikátor - klasifikace textů"
   ]
  },
  {
   "cell_type": "markdown",
   "metadata": {
    "slideshow": {
     "slide_type": "subslide"
    }
   },
   "source": [
    "V tomto notebooku se budeme zabývat problémem klasifikace pomocí Naivního Bayese. Speciálně se budeme soustředit na klasifikaci textů."
   ]
  },
  {
   "cell_type": "markdown",
   "metadata": {
    "slideshow": {
     "slide_type": "skip"
    }
   },
   "source": [
    "Základem pro tento dokument je tutorial ze scikit-learn zaměřený na analýzu textů [zde](https://scikit-learn.org/stable/tutorial/text_analytics/working_with_text_data.html)."
   ]
  },
  {
   "cell_type": "code",
   "execution_count": 1,
   "metadata": {
    "slideshow": {
     "slide_type": "slide"
    }
   },
   "outputs": [],
   "source": [
    "import pandas as pd\n",
    "import numpy as np\n",
    "\n",
    "from sklearn.naive_bayes import BernoulliNB, MultinomialNB\n",
    "from sklearn.datasets import fetch_20newsgroups\n",
    "from sklearn.feature_extraction.text import CountVectorizer\n",
    "\n",
    "np.set_printoptions(precision=5, suppress=True)  # suppress scientific float notation (so 0.000 is printed as 0.)"
   ]
  },
  {
   "cell_type": "markdown",
   "metadata": {
    "slideshow": {
     "slide_type": "subslide"
    }
   },
   "source": [
    "## Načtení dat\n",
    "\n",
    "Využijeme data ze zdroje [20 Newsgroups](http://qwone.com/~jason/20Newsgroups/), který obsahuje cca 20000 textů kategorizovaných do 20 skupin.\n",
    "\n",
    "Pro jednoduchost se zaměříme pouze na dvě kategorie - hokej a auta."
   ]
  },
  {
   "cell_type": "code",
   "execution_count": 2,
   "metadata": {
    "slideshow": {
     "slide_type": "fragment"
    }
   },
   "outputs": [],
   "source": [
    "categories = ['rec.sport.hockey', 'rec.autos']\n",
    "train_data = fetch_20newsgroups(subset='train', categories=categories, shuffle=True, random_state=1)\n",
    "test_data = fetch_20newsgroups(subset='test', categories=categories, shuffle=True, random_state=1)"
   ]
  },
  {
   "cell_type": "markdown",
   "metadata": {
    "slideshow": {
     "slide_type": "slide"
    }
   },
   "source": [
    "## Prozkoumání trénovacích dat"
   ]
  },
  {
   "cell_type": "code",
   "execution_count": 3,
   "metadata": {},
   "outputs": [
    {
     "data": {
      "text/plain": [
       "(array([0, 1]), array([594, 600]))"
      ]
     },
     "execution_count": 3,
     "metadata": {},
     "output_type": "execute_result"
    }
   ],
   "source": [
    "np.unique(train_data.target, return_counts=True)"
   ]
  },
  {
   "cell_type": "code",
   "execution_count": 4,
   "metadata": {
    "slideshow": {
     "slide_type": "subslide"
    }
   },
   "outputs": [
    {
     "name": "stdout",
     "output_type": "stream",
     "text": [
      "Kategorie: ['rec.autos', 'rec.sport.hockey']\n",
      "Train data length: 1194\n",
      "Kategorie prvního dokumentu: rec.autos\n",
      "---------------------------------------------\n",
      "From: rmt6r@faraday.clas.Virginia.EDU (Roy Matthew Thigpen)\n",
      "Subject: Re: Ad said Nissan Altima best seller?\n",
      "Organization: University of Virginia\n",
      "Lines: 35\n",
      "\n",
      "boyle@cactus.org  writes:\n",
      "> In article <1qv7mn$dql@menudo.uh.edu> thang@harebell.egr.uh.edu (Chin-Heng  Thang) writes:\n",
      "> >\tRecently, I saw an ad for the altima which says that it is the  \n",
      "> >best seller for the past 6 months, is that true? \n",
      "> >\n",
      "> \n",
      "> I too was puzzled by this obvious untruth. What I think is going on is that\n",
      "> Nissan claims that the Altima is \"the best selling new car namelplate in\n",
      "> the US\" (I think I have this near verbatim). Lee Iaccoca's statistics\n",
      "> dept. would have been proud of that sentence. What they mean, I think, is\n",
      "> that of all \"totally new models\", i.e. cars never sold before in any\n",
      "> form, the Altima is the best seller, thereby eliminating Accord, Taurus\n",
      "> etc. \n",
      " THis is from the same people who make the claim that our minivan is outsellin\n",
      "theirs.... implying that the Nissan Quest/ Murcury Villager are out-selling\n",
      "the Chrysler mini-vans.... not only is this not true at all, but it was a stupid\n",
      "claim to make... the commercial was part of the introduction campaign for the \n",
      "vans.  Kind of a bold statement to make when you haven't even sold one yet, eh?\n",
      "\n",
      "\n",
      "And I thought Buick and Oldsmobile where bad.  Shame on you Nissan and \n",
      "Mercury!\n",
      "> \n",
      "> Any other interpretations?\n",
      "> \n",
      "> \n",
      "> Craig\n",
      "> >\t Does anyone has anyhting regarding the # of cars sold for the  \n",
      "> >past 6 months?\n",
      "> >\n",
      "> >\n",
      "> >\n",
      "> >tony\n",
      "> \n",
      "> \n",
      "\n"
     ]
    }
   ],
   "source": [
    "print('Kategorie:', train_data.target_names)\n",
    "print('Train data length:', len(train_data.data))\n",
    "\n",
    "print('Kategorie prvního dokumentu:',train_data.target_names[train_data.target[0]])\n",
    "print('---------------------------------------------')\n",
    "print(train_data.data[0])"
   ]
  },
  {
   "cell_type": "markdown",
   "metadata": {
    "slideshow": {
     "slide_type": "slide"
    }
   },
   "source": [
    "## Transformace do bag-of-words reprezentace\n",
    "\n",
    "Použijeme CountVectorizer ze [scikit-learn](https://scikit-learn.org/stable/modules/generated/sklearn.feature_extraction.text.CountVectorizer.html?highlight=countvectorizer#sklearn.feature_extraction.text.CountVectorizer)."
   ]
  },
  {
   "cell_type": "markdown",
   "metadata": {
    "slideshow": {
     "slide_type": "subslide"
    }
   },
   "source": [
    "Nejprve ale načteme slovník a část zobrazíme."
   ]
  },
  {
   "cell_type": "code",
   "execution_count": 5,
   "metadata": {
    "slideshow": {
     "slide_type": "fragment"
    }
   },
   "outputs": [
    {
     "name": "stdout",
     "output_type": "stream",
     "text": [
      "počet slov: 61188\n"
     ]
    },
    {
     "data": {
      "text/plain": [
       "['archive',\n",
       " 'name',\n",
       " 'atheism',\n",
       " 'resources',\n",
       " 'alt',\n",
       " 'last',\n",
       " 'modified',\n",
       " 'december',\n",
       " 'version',\n",
       " 'atheist']"
      ]
     },
     "execution_count": 5,
     "metadata": {},
     "output_type": "execute_result"
    }
   ],
   "source": [
    "with open('vocabulary.txt','r') as f:\n",
    "    vocab=f.read().splitlines()\n",
    "print('počet slov:',len(vocab))\n",
    "vocab[:10]"
   ]
  },
  {
   "cell_type": "markdown",
   "metadata": {
    "slideshow": {
     "slide_type": "subslide"
    }
   },
   "source": [
    "`CountVectorizer()` reprezentuje každý text pomocí vektoru, jehož složky jsou počty výskytů daného slova ve slovníku. Celkem máme $1194$ řádků odpovídajících jednotlivým textům a $61188$ sloupců odpovídajících slovům ve slovníku."
   ]
  },
  {
   "cell_type": "code",
   "execution_count": 6,
   "metadata": {},
   "outputs": [],
   "source": [
    "# Navíc: načtení seznamu častých slov s minimálním významem\n",
    "# from nltk.corpus import stopwords\n",
    "# stop_words=stopwords.words('english')\n",
    "stop_words=[]"
   ]
  },
  {
   "cell_type": "code",
   "execution_count": 7,
   "metadata": {
    "slideshow": {
     "slide_type": "fragment"
    }
   },
   "outputs": [
    {
     "name": "stdout",
     "output_type": "stream",
     "text": [
      "Bag of words shape (1194, 61188)\n",
      "Bag of words type <class 'scipy.sparse.csr.csr_matrix'>\n"
     ]
    }
   ],
   "source": [
    "count_vect = CountVectorizer(vocabulary = vocab, stop_words=stop_words)\n",
    "X_train_counts = count_vect.fit_transform(train_data.data)\n",
    "print('Bag of words shape', X_train_counts.shape)\n",
    "print('Bag of words type', type(X_train_counts))"
   ]
  },
  {
   "cell_type": "markdown",
   "metadata": {
    "slideshow": {
     "slide_type": "subslide"
    }
   },
   "source": [
    "Prvních 10 řádků a 20 sloupců matice vypadá jako:"
   ]
  },
  {
   "cell_type": "code",
   "execution_count": 8,
   "metadata": {
    "slideshow": {
     "slide_type": "fragment"
    }
   },
   "outputs": [
    {
     "data": {
      "text/plain": [
       "array([[0, 0, 0, 0, 0, 0, 0, 0, 0, 0, 0, 6, 0, 0, 0, 2, 0, 0, 0, 0],\n",
       "       [0, 0, 0, 0, 0, 0, 0, 0, 0, 0, 0, 2, 0, 0, 0, 1, 0, 0, 0, 0],\n",
       "       [0, 0, 0, 0, 0, 1, 0, 0, 0, 0, 0, 2, 0, 1, 0, 1, 0, 0, 0, 0],\n",
       "       [0, 0, 0, 0, 0, 0, 0, 0, 0, 0, 0, 4, 0, 0, 0, 2, 0, 0, 0, 0],\n",
       "       [0, 0, 0, 0, 0, 0, 0, 0, 0, 0, 0, 2, 0, 0, 0, 1, 0, 0, 0, 0],\n",
       "       [0, 0, 0, 0, 0, 0, 0, 0, 0, 0, 0, 1, 0, 0, 0, 1, 0, 0, 0, 0],\n",
       "       [0, 0, 0, 0, 0, 1, 0, 0, 0, 0, 0, 3, 0, 0, 0, 1, 0, 0, 0, 0],\n",
       "       [0, 0, 0, 0, 0, 0, 0, 0, 0, 0, 0, 0, 0, 0, 0, 3, 0, 0, 0, 0],\n",
       "       [0, 0, 0, 0, 0, 0, 0, 0, 0, 0, 0, 0, 0, 0, 0, 1, 0, 0, 0, 0],\n",
       "       [0, 0, 0, 0, 0, 2, 0, 0, 1, 0, 0, 2, 0, 0, 0, 1, 0, 0, 0, 0]])"
      ]
     },
     "execution_count": 8,
     "metadata": {},
     "output_type": "execute_result"
    }
   ],
   "source": [
    "X_train_counts[:10,:20].toarray()"
   ]
  },
  {
   "cell_type": "markdown",
   "metadata": {
    "slideshow": {
     "slide_type": "fragment"
    }
   },
   "source": [
    "Výstupem je scipy.sparse matrix."
   ]
  },
  {
   "cell_type": "markdown",
   "metadata": {
    "slideshow": {
     "slide_type": "subslide"
    }
   },
   "source": [
    "Můžeme se ještě podívat na slova ve slovníku spolu s počty jejich výskytu v prvním textu."
   ]
  },
  {
   "cell_type": "code",
   "execution_count": 9,
   "metadata": {
    "slideshow": {
     "slide_type": "fragment"
    }
   },
   "outputs": [
    {
     "name": "stdout",
     "output_type": "stream",
     "text": [
      "<class 'dict'>\n",
      "61188\n",
      "{'archive': 0, 'name': 0, 'atheism': 0, 'resources': 0, 'alt': 0, 'last': 0, 'modified': 0, 'december': 0, 'version': 0, 'atheist': 0, 'addresses': 0, 'of': 6, 'organizations': 0, 'usa': 0, 'freedom': 0, 'from': 2, 'religion': 0, 'foundation': 0, 'darwin': 0, 'fish': 0}\n"
     ]
    }
   ],
   "source": [
    "print(type(count_vect.vocabulary_))\n",
    "print(len(count_vect.vocabulary_))\n",
    "\n",
    "print({vocab[i]:X_train_counts[0,i] for i in range(20)})"
   ]
  },
  {
   "cell_type": "markdown",
   "metadata": {
    "slideshow": {
     "slide_type": "slide"
    }
   },
   "source": [
    "## Aplikace Naivního Bayese s Bernoulliho rozdělením\n",
    "\n",
    "* Reprezentujeme dokument pomocí indikátorů výskytů slov ze slovníku `vocab`\n",
    "* Natrénujeme Naivního Bayese s Bernoulliho rozdělením příznaků"
   ]
  },
  {
   "cell_type": "code",
   "execution_count": 10,
   "metadata": {
    "slideshow": {
     "slide_type": "subslide"
    }
   },
   "outputs": [
    {
     "data": {
      "text/plain": [
       "array([[0, 0, 0, 0, 0, 0, 0, 0, 0, 0, 0, 1, 0, 0, 0, 1, 0, 0, 0, 0],\n",
       "       [0, 0, 0, 0, 0, 0, 0, 0, 0, 0, 0, 1, 0, 0, 0, 1, 0, 0, 0, 0],\n",
       "       [0, 0, 0, 0, 0, 1, 0, 0, 0, 0, 0, 1, 0, 1, 0, 1, 0, 0, 0, 0],\n",
       "       [0, 0, 0, 0, 0, 0, 0, 0, 0, 0, 0, 1, 0, 0, 0, 1, 0, 0, 0, 0],\n",
       "       [0, 0, 0, 0, 0, 0, 0, 0, 0, 0, 0, 1, 0, 0, 0, 1, 0, 0, 0, 0],\n",
       "       [0, 0, 0, 0, 0, 0, 0, 0, 0, 0, 0, 1, 0, 0, 0, 1, 0, 0, 0, 0],\n",
       "       [0, 0, 0, 0, 0, 1, 0, 0, 0, 0, 0, 1, 0, 0, 0, 1, 0, 0, 0, 0],\n",
       "       [0, 0, 0, 0, 0, 0, 0, 0, 0, 0, 0, 0, 0, 0, 0, 1, 0, 0, 0, 0],\n",
       "       [0, 0, 0, 0, 0, 0, 0, 0, 0, 0, 0, 0, 0, 0, 0, 1, 0, 0, 0, 0],\n",
       "       [0, 0, 0, 0, 0, 1, 0, 0, 1, 0, 0, 1, 0, 0, 0, 1, 0, 0, 0, 0]])"
      ]
     },
     "metadata": {},
     "output_type": "display_data"
    }
   ],
   "source": [
    "# převedeme texty na indikátory výskytu slov\n",
    "ind_vect = CountVectorizer(binary = True, vocabulary = vocab, stop_words=stop_words)\n",
    "X_train_indicators = ind_vect.fit_transform(train_data.data)\n",
    "\n",
    "# zobrazíme výsledek\n",
    "display(X_train_indicators[:10,:20].toarray())\n",
    "\n",
    "# natrénujeme klasifikátor\n",
    "clfi = BernoulliNB().fit(X_train_indicators, train_data.target)"
   ]
  },
  {
   "cell_type": "markdown",
   "metadata": {
    "slideshow": {
     "slide_type": "slide"
    }
   },
   "source": [
    "* Otestujeme kvalitu predikce na ručně určených dokumentech\n",
    "* Odhadneme přesnost (acccuracy) predikce s využitím testovací množiny test_data"
   ]
  },
  {
   "cell_type": "code",
   "execution_count": 11,
   "metadata": {
    "slideshow": {
     "slide_type": "subslide"
    }
   },
   "outputs": [
    {
     "name": "stdout",
     "output_type": "stream",
     "text": [
      "'Lets play hockey.' => rec.sport.hockey\n",
      "[0.13849 0.86151]\n",
      "\"I don't like their seats\" => rec.autos\n",
      "[0.99945 0.00055]\n"
     ]
    }
   ],
   "source": [
    "# Vlastní dokumenty pro testování\n",
    "docs_new = [\"Lets play hockey.\", \"I don't like their seats\"]\n",
    "\n",
    "# alternativně možno zkusit\n",
    "# docs_new = [\"Lets play hockey.\", \"I don't like their game\"]\n",
    "\n",
    "# výpočet indikátorů pomocí natrénovaného CountVectorizer v objektu ind_vect\n",
    "X_new_indicators = ind_vect.transform(docs_new)\n",
    "\n",
    "# predikce pro zadané dokumenty\n",
    "predicted = clfi.predict(X_new_indicators)\n",
    "probabs = clfi.predict_proba(X_new_indicators)\n",
    "\n",
    "# print results\n",
    "for doc, category, probab in zip(docs_new, predicted, probabs):\n",
    "    print('%r => %s' % (doc, train_data.target_names[category]))\n",
    "    print(probab)"
   ]
  },
  {
   "cell_type": "code",
   "execution_count": 12,
   "metadata": {
    "slideshow": {
     "slide_type": "subslide"
    }
   },
   "outputs": [
    {
     "name": "stdout",
     "output_type": "stream",
     "text": [
      "Odhad přesnosti: 0.9911949685534591\n"
     ]
    }
   ],
   "source": [
    "# Odhad přesnosti predikce na testovací množině\n",
    "\n",
    "# výpočet indikátorů pomocí natrénovaného CountVectorizer v objektu ind_vect\n",
    "X_new_indicators = ind_vect.transform(test_data.data)\n",
    "\n",
    "# predikce na testovacích datech\n",
    "predicted = clfi.predict(X_new_indicators)\n",
    "\n",
    "print('Odhad přesnosti:', clfi.score(X_new_indicators, test_data.target))"
   ]
  },
  {
   "cell_type": "markdown",
   "metadata": {
    "slideshow": {
     "slide_type": "slide"
    }
   },
   "source": [
    "## Aplikace Naivního Bayese s Multinomiálním rozdělením\n",
    "\n",
    "* Reprezentujeme dokument pomocí počtů výskytů slov ze slovníku `vocab` - tj. bag-of-words reprezentace\n",
    "* Natrénujeme multinomického naivního Bayese"
   ]
  },
  {
   "cell_type": "code",
   "execution_count": 13,
   "metadata": {
    "slideshow": {
     "slide_type": "subslide"
    }
   },
   "outputs": [],
   "source": [
    "# ještě jednou určíme počty slov v jednotlivých textech\n",
    "count_vect = CountVectorizer(vocabulary = vocab, stop_words=stop_words)\n",
    "X_train_counts = count_vect.fit_transform(train_data.data)\n",
    "\n",
    "# natrénujeme klasifikátor\n",
    "clf = MultinomialNB().fit(X_train_counts, train_data.target)"
   ]
  },
  {
   "cell_type": "markdown",
   "metadata": {
    "slideshow": {
     "slide_type": "slide"
    }
   },
   "source": [
    "* Otestujeme kvalitu predikce na ručně určených dokumentech\n",
    "* Odhadneme přesnost (acccuracy) predikce s využitím testovací množiny test_data"
   ]
  },
  {
   "cell_type": "code",
   "execution_count": 14,
   "metadata": {
    "slideshow": {
     "slide_type": "subslide"
    }
   },
   "outputs": [
    {
     "name": "stdout",
     "output_type": "stream",
     "text": [
      "'Lets play hockey.' => rec.sport.hockey\n",
      "[0.00006 0.99994]\n",
      "\"I don't like their seats\" => rec.autos\n",
      "[0.63915 0.36085]\n"
     ]
    }
   ],
   "source": [
    "# výpočet četností pomocí natrénovaného CountVectorizer v objektu count_vect\n",
    "X_new_counts = count_vect.transform(docs_new)\n",
    "\n",
    "# predikce pro zadané dokumenty\n",
    "predicted = clf.predict(X_new_counts)\n",
    "probabs = clf.predict_proba(X_new_counts)\n",
    "\n",
    "# print results\n",
    "for doc, category, probab in zip(docs_new, predicted, probabs):\n",
    "    print('%r => %s' % (doc, train_data.target_names[category]))\n",
    "    print(probab)"
   ]
  },
  {
   "cell_type": "code",
   "execution_count": 15,
   "metadata": {
    "slideshow": {
     "slide_type": "subslide"
    }
   },
   "outputs": [
    {
     "name": "stdout",
     "output_type": "stream",
     "text": [
      "Odhad přesnosti: 0.9962264150943396\n"
     ]
    }
   ],
   "source": [
    "# Odhad přesnosti predikce na testovací množině\n",
    "\n",
    "# výpočet četností pomocí natrénovaného CountVectorizer v objektu count_vect\n",
    "X_new_counts = count_vect.transform(test_data.data)\n",
    "\n",
    "# predikce na testovacích datech\n",
    "predicted = clf.predict(X_new_counts)\n",
    "\n",
    "print('Odhad přesnosti:', clf.score(X_new_counts, test_data.target))"
   ]
  },
  {
   "cell_type": "code",
   "execution_count": null,
   "metadata": {},
   "outputs": [],
   "source": []
  }
 ],
 "metadata": {
  "celltoolbar": "Slideshow",
  "kernelspec": {
   "display_name": "Python 3",
   "language": "python",
   "name": "python3"
  },
  "language_info": {
   "codemirror_mode": {
    "name": "ipython",
    "version": 3
   },
   "file_extension": ".py",
   "mimetype": "text/x-python",
   "name": "python",
   "nbconvert_exporter": "python",
   "pygments_lexer": "ipython3",
   "version": "3.8.2"
  }
 },
 "nbformat": 4,
 "nbformat_minor": 4
}
