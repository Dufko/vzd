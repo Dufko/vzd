{
 "cells": [
  {
   "cell_type": "markdown",
   "metadata": {
    "slideshow": {
     "slide_type": "slide"
    }
   },
   "source": [
    "# Naivní Bayesův klasifikátor"
   ]
  },
  {
   "cell_type": "markdown",
   "metadata": {
    "slideshow": {
     "slide_type": "subslide"
    }
   },
   "source": [
    "V tomto notebooku se budeme zabývat řešením problému klasifikace pomocí metody nazývané Naivní Bayes (Naive Bayes)."
   ]
  },
  {
   "cell_type": "markdown",
   "metadata": {
    "slideshow": {
     "slide_type": "skip"
    }
   },
   "source": [
    "Dokumentace a příklady scikit-learn jsou dostupné [zde](https://scikit-learn.org/stable/modules/naive_bayes.html)."
   ]
  },
  {
   "cell_type": "markdown",
   "metadata": {
    "slideshow": {
     "slide_type": "fragment"
    }
   },
   "source": [
    "Pro data s diskrétními hodnotami příznaků je MAP odhad predikované proměnné $Y$ naivního Bayesova klasifikátoru roven\n",
    "$$\n",
    "\\hat Y = \\arg \\max_{y \\in \\mathcal Y} \\Pi_{i = 1}^{p} \\, P(X_i = x_i | Y = y) P(Y = y).\n",
    "$$"
   ]
  },
  {
   "cell_type": "markdown",
   "metadata": {
    "slideshow": {
     "slide_type": "slide"
    }
   },
   "source": [
    "## Bernoulli Naive Bayes"
   ]
  },
  {
   "cell_type": "markdown",
   "metadata": {
    "slideshow": {
     "slide_type": "slide"
    }
   },
   "source": [
    "Uvažujme jako na přednášce data obsahující tři binární příznaky $X_1, X_2, X_3$ a binární vysvětlovanou proměnnou $Y$\n",
    "\n",
    "$$\n",
    "\\begin{array}{c|ccc}\n",
    "          Y & X_1 & X_2 & X_3 \\\\\n",
    "          \\hline\n",
    "          1 & 1 & 1 & 0 \\\\\n",
    "          1 & 0 & 1 & 1 \\\\\n",
    "          1 & 1 & 1 & 1 \\\\\n",
    "          0 & 0 & 0 & 1 \\\\\n",
    "          0 & 0 & 1 & 0 \\\\\n",
    "          0 & 1 & 0 & 0 \\\\\n",
    "        \\end{array}\n",
    "$$\n",
    "\n",
    "Data byla generována tak, že ve skutečnosti jsou $X_1, X_2, X_3$ nezávislé veličiny se stejným rovnoměrným rozdělením,\n",
    "$X_i \\sim Be(1/2)$, a $Y = 1$ právě, když jsou alespoň dvě hodnoty příznaků rovny $1$."
   ]
  },
  {
   "cell_type": "code",
   "execution_count": 1,
   "metadata": {
    "slideshow": {
     "slide_type": "subslide"
    }
   },
   "outputs": [],
   "source": [
    "import numpy as np\n",
    "\n",
    "X = np.array([\n",
    "    [1,1,0],\n",
    "    [0,1,1],\n",
    "    [1,1,1],\n",
    "    [0,0,1],\n",
    "    [0,1,0],\n",
    "    [1,0,0],\n",
    "])\n",
    "Y = np.array([1,1,1,0,0,0])"
   ]
  },
  {
   "cell_type": "markdown",
   "metadata": {
    "slideshow": {
     "slide_type": "slide"
    }
   },
   "source": [
    "Implementace `BernoulliNB(*, alpha=1.0, binarize=0.0, fit_prior=True, class_prior=None)` v knihovně scikit-learn nám umožní model rovnou natrénovat jelikož příznaky jsou již binární. Pokud tomu tak není, lze zadat parametr `binarize` určující hranici pro reprezentaci dat pomocí $0$ a $1$. \n",
    "\n",
    "Při výchozi volbě parametru `alpha = 1.0` se aposteriorní rozdělení počítají jako\n",
    "$$\n",
    "\\hat p_y = \\frac{N_{1,y} + 1}{N_{1,y} + N_{0,y} + 2}.\n",
    "$$"
   ]
  },
  {
   "cell_type": "code",
   "execution_count": 2,
   "metadata": {
    "slideshow": {
     "slide_type": "slide"
    }
   },
   "outputs": [],
   "source": [
    "from sklearn.naive_bayes import BernoulliNB\n",
    "\n",
    "clf = BernoulliNB(alpha=1.0);\n",
    "clf.fit(X, Y);"
   ]
  },
  {
   "cell_type": "code",
   "execution_count": 3,
   "metadata": {
    "slideshow": {
     "slide_type": "fragment"
    }
   },
   "outputs": [
    {
     "name": "stdout",
     "output_type": "stream",
     "text": [
      "třídy y: [0 1]\n",
      "počet vzorků pro každou třídu: [3. 3.]\n",
      "počty vzorků pro každou třídu a příznak:\n",
      " [[1. 1. 1.]\n",
      " [2. 3. 2.]]\n"
     ]
    }
   ],
   "source": [
    "print('třídy y:', clf.classes_)\n",
    "print('počet vzorků pro každou třídu:',clf.class_count_)\n",
    "print('počty vzorků pro každou třídu a příznak:\\n', clf.feature_count_)"
   ]
  },
  {
   "cell_type": "markdown",
   "metadata": {
    "slideshow": {
     "slide_type": "slide"
    }
   },
   "source": [
    "Odhady pravděpodobností $\\Pi_{i = 1}^p \\, P(X_i = x_i | Y = y) P(Y = y)$ a výsledná predikce na trénovací množině."
   ]
  },
  {
   "cell_type": "code",
   "execution_count": 4,
   "metadata": {
    "slideshow": {
     "slide_type": "fragment"
    }
   },
   "outputs": [
    {
     "name": "stdout",
     "output_type": "stream",
     "text": [
      "odhad pravděpodobnosti pro vektory X:\n",
      " [[0.33333333 0.66666667]\n",
      " [0.33333333 0.66666667]\n",
      " [0.18181818 0.81818182]\n",
      " [0.75       0.25      ]\n",
      " [0.52941176 0.47058824]\n",
      " [0.75       0.25      ]]\n",
      "predikce pro vektory X:\n",
      " [1 1 1 0 0 0]\n"
     ]
    }
   ],
   "source": [
    "print('odhad pravděpodobnosti pro vektory X:\\n',clf.predict_proba(X))\n",
    "\n",
    "print('predikce pro vektory X:\\n',clf.predict(X))"
   ]
  },
  {
   "cell_type": "markdown",
   "metadata": {
    "slideshow": {
     "slide_type": "slide"
    }
   },
   "source": [
    "Nyní přistupme k predikci pro vektory $\\{(1,0,1),(0,0,0)\\}$."
   ]
  },
  {
   "cell_type": "code",
   "execution_count": 5,
   "metadata": {
    "slideshow": {
     "slide_type": "fragment"
    }
   },
   "outputs": [
    {
     "name": "stdout",
     "output_type": "stream",
     "text": [
      "odhady pravděpodobností jsou:\n",
      " [[0.57142857 0.42857143]\n",
      " [0.87096774 0.12903226]]\n",
      "tedy vektory klasifikujeme jako:\n",
      " [0 0]\n"
     ]
    }
   ],
   "source": [
    "to_predict = np.array([[1,0,1],[0,0,0]])\n",
    "print('odhady pravděpodobností jsou:\\n',clf.predict_proba(to_predict))\n",
    "print('tedy vektory klasifikujeme jako:\\n',clf.predict(to_predict))"
   ]
  },
  {
   "cell_type": "markdown",
   "metadata": {
    "slideshow": {
     "slide_type": "fragment"
    }
   },
   "source": [
    "Úkol: vyzkoušejte použití `BernoulliNB()` pro různé hodnoty parametru `alpha` a zkoumejte vliv na odhad pravděpodobností."
   ]
  },
  {
   "cell_type": "markdown",
   "metadata": {
    "slideshow": {
     "slide_type": "slide"
    }
   },
   "source": [
    "## Gaussian Naive Bayes"
   ]
  },
  {
   "cell_type": "markdown",
   "metadata": {
    "slideshow": {
     "slide_type": "slide"
    }
   },
   "source": [
    "Uvažujme nyní dataset Iris známý z dřívějška. Proměnná $X$ obsahuje příznaky, proměnná $y$ predikovanou třídu. Tentokrát jsou ale $X$ spojité."
   ]
  },
  {
   "cell_type": "code",
   "execution_count": 6,
   "metadata": {
    "slideshow": {
     "slide_type": "fragment"
    }
   },
   "outputs": [
    {
     "name": "stdout",
     "output_type": "stream",
     "text": [
      "Shape X_train: (100, 4)\n"
     ]
    }
   ],
   "source": [
    "from sklearn.datasets import load_iris\n",
    "from sklearn.model_selection import train_test_split\n",
    "\n",
    "X, y = load_iris(return_X_y=True)\n",
    "\n",
    "X_train, X_test, y_train, y_test = train_test_split(X, y, test_size=0.33, random_state=0)\n",
    "print('Shape X_train:', X_train.shape)"
   ]
  },
  {
   "cell_type": "markdown",
   "metadata": {
    "slideshow": {
     "slide_type": "slide"
    }
   },
   "source": [
    "Vykreslíme si histogramy hodnot jednotlivých příznaků $X_{train}$ v trénovací množině."
   ]
  },
  {
   "cell_type": "code",
   "execution_count": 7,
   "metadata": {
    "slideshow": {
     "slide_type": "skip"
    }
   },
   "outputs": [],
   "source": [
    "import matplotlib.pyplot as plt\n",
    "import matplotlib\n",
    "%matplotlib inline"
   ]
  },
  {
   "cell_type": "code",
   "execution_count": 8,
   "metadata": {
    "slideshow": {
     "slide_type": "slide"
    }
   },
   "outputs": [
    {
     "data": {
      "image/png": "[encoded data removed]",
      "text/plain": [
       "<Figure size 720x720 with 4 Axes>"
      ]
     },
     "metadata": {
      "needs_background": "light"
     },
     "output_type": "display_data"
    }
   ],
   "source": [
    "plt.figure(figsize=(10,10));\n",
    "plt.subplot(221); plt.title('rozdělení X_1'); plt.hist(X_train[:,0],bins=10);\n",
    "plt.subplot(222); plt.title('rozdělení X_2'); plt.hist(X_train[:,1],bins=20);\n",
    "plt.subplot(223); plt.title('rozdělení X_3'); plt.hist(X_train[:,2],bins=20);\n",
    "plt.subplot(224); plt.title('rozdělení X_4'); plt.hist(X_train[:,3],bins=20);"
   ]
  },
  {
   "cell_type": "markdown",
   "metadata": {
    "slideshow": {
     "slide_type": "subslide"
    }
   },
   "source": [
    "Z histogramů není jasné jaké rozdělení by příznaky $X_i$ mohly mít, tedy jaká by měla být hustota pravděpodobnosti $f_{X_i}(x_i)$. Částečně za to může i fakt se kterým jsme se setkali dříve, totiž že v datasetu se jedna třída od ostatních viditelně liší (v histogramu bude více vrcholů)."
   ]
  },
  {
   "cell_type": "markdown",
   "metadata": {
    "slideshow": {
     "slide_type": "slide"
    }
   },
   "source": [
    "Nás ale zajímá podmíněná hustota pravděpodobnosti $f_{X_i|y}(x_i)$, protože Gaussovský naivní Bayes provádí MAP odhad pomocí\n",
    "$$\n",
    "\\hat Y = \\arg \\max_{y \\in \\mathcal Y} \\prod_{i = 1}^p f_{X_i | y}(x_i) P(Y = y).\n",
    "$$\n",
    "Příslušné histogramy pro jednotlivé třídy získáme tak, že v předchozím nahradíme `X_train` pomocí `X_train[y_train == i]`. Situace se přesto příliš nezlepší, protože dat potom není mnoho."
   ]
  },
  {
   "cell_type": "markdown",
   "metadata": {
    "slideshow": {
     "slide_type": "subslide"
    }
   },
   "source": [
    "Přijmeme teď předpoklad, že podmíněná rozdělení $X_i | Y = y$ jsou normální rozdělení       $N(\\mu_y,\\sigma^2_y)$ se střední hodnotou určenou parametrem $\\mu_y$ a rozptylem určeným parametrem $\\sigma^2_y$ a podmíněná hustota je tedy pro každé $x \\in \\mathbb R$ určena vztahem\n",
    "$$\n",
    "f_{X | y}(x) = \\frac{1}{\\sqrt{2\\pi \\sigma_y^2}} \\exp\\left(-\\frac{1}{2\\sigma^2_y}(x - \\mu_y)^2\\right).\n",
    "$$\n",
    "Použijeme navíc odhady\n",
    "$$\n",
    "\\hat \\mu_y = \\frac{1}{N_y}\\sum_{i}^{N_y} x_i, \\quad \\hat \\sigma^2_y = \\frac{1}{N_y}\\sum_{i}^{N_y} (x_i - \\hat \\mu_y)^2,\n",
    "$$\n",
    "kde $x_1,\\dotsc,x_{N_y}$ jsou hodnoty příznaku $X$, pro které $Y = y$.\n",
    "\n",
    "Vše potřebné je ve scikit-learn již implementováno."
   ]
  },
  {
   "cell_type": "code",
   "execution_count": 9,
   "metadata": {
    "slideshow": {
     "slide_type": "slide"
    }
   },
   "outputs": [],
   "source": [
    "from sklearn.naive_bayes import GaussianNB\n",
    "\n",
    "clf = GaussianNB();\n",
    "clf.fit(X_train, y_train);"
   ]
  },
  {
   "cell_type": "markdown",
   "metadata": {
    "slideshow": {
     "slide_type": "subslide"
    }
   },
   "source": [
    "Natrénovaný model má následující parametry."
   ]
  },
  {
   "cell_type": "code",
   "execution_count": 10,
   "metadata": {
    "slideshow": {
     "slide_type": "fragment"
    }
   },
   "outputs": [
    {
     "name": "stdout",
     "output_type": "stream",
     "text": [
      "třídy y: [0 1 2]\n",
      "počet vzorků pro každou třídu: [34. 31. 35.]\n",
      "počet vzorků pro každou třídu: [0.34 0.31 0.35]\n",
      "odhad střední hodnoty pro každou třídu a příznak:\n",
      " [[4.99411765 3.38235294 1.45294118 0.23235294]\n",
      " [5.9516129  2.78064516 4.21935484 1.31612903]\n",
      " [6.67428571 3.01428571 5.60857143 2.04571429]]\n",
      "odhad rozptylu pro každou třídu a příznak:\n",
      " [[0.12584775 0.153218   0.02013841 0.00865917]\n",
      " [0.26185224 0.10027055 0.22543185 0.04006244]\n",
      " [0.46133878 0.10579592 0.33792653 0.05733878]]\n"
     ]
    }
   ],
   "source": [
    "print('třídy y:', clf.classes_)\n",
    "print('počet vzorků pro každou třídu:',clf.class_count_)\n",
    "print('počet vzorků pro každou třídu:',clf.class_prior_)\n",
    "print('odhad střední hodnoty pro každou třídu a příznak:\\n', clf.theta_) # np.mean(X_train[y_train ==0],0)\n",
    "print('odhad rozptylu pro každou třídu a příznak:\\n', clf.sigma_)"
   ]
  },
  {
   "cell_type": "raw",
   "metadata": {
    "slideshow": {
     "slide_type": "subslide"
    }
   },
   "source": [
    "Vyzkoušíme úspěšnost predikce na testovací množině."
   ]
  },
  {
   "cell_type": "code",
   "execution_count": 11,
   "metadata": {
    "slideshow": {
     "slide_type": "fragment"
    }
   },
   "outputs": [
    {
     "name": "stdout",
     "output_type": "stream",
     "text": [
      "Z 50 bodů v X_test je špatně klasifikovaných: 2\n",
      "Úspěšnost modelu je: 0.96\n"
     ]
    }
   ],
   "source": [
    "y_pred = clf.predict(X_test)\n",
    "print('Z %d bodů v X_test je špatně klasifikovaných: %d' % (X_test.shape[0], (y_test != y_pred).sum()))\n",
    "print('Úspěšnost modelu je: %g' % clf.score(X_test, y_test))"
   ]
  },
  {
   "cell_type": "code",
   "execution_count": null,
   "metadata": {},
   "outputs": [],
   "source": []
  }
 ],
 "metadata": {
  "celltoolbar": "Slideshow",
  "kernelspec": {
   "display_name": "Python 3",
   "language": "python",
   "name": "python3"
  },
  "language_info": {
   "codemirror_mode": {
    "name": "ipython",
    "version": 3
   },
   "file_extension": ".py",
   "mimetype": "text/x-python",
   "name": "python",
   "nbconvert_exporter": "python",
   "pygments_lexer": "ipython3",
   "version": "3.8.2"
  }
 },
 "nbformat": 4,
 "nbformat_minor": 4
}
